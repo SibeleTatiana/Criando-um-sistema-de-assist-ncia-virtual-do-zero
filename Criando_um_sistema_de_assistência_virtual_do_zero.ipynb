{
  "nbformat": 4,
  "nbformat_minor": 0,
  "metadata": {
    "colab": {
      "provenance": [],
      "authorship_tag": "ABX9TyOSYkHePYF37AVJgXGG2T9H",
      "include_colab_link": true
    },
    "kernelspec": {
      "name": "python3",
      "display_name": "Python 3"
    },
    "language_info": {
      "name": "python"
    }
  },
  "cells": [
    {
      "cell_type": "markdown",
      "metadata": {
        "id": "view-in-github",
        "colab_type": "text"
      },
      "source": [
        "<a href=\"https://colab.research.google.com/github/SibeleTatiana/Criando-um-sistema-de-assist-ncia-virtual-do-zero/blob/main/Criando_um_sistema_de_assist%C3%AAncia_virtual_do_zero.ipynb\" target=\"_parent\"><img src=\"https://colab.research.google.com/assets/colab-badge.svg\" alt=\"Open In Colab\"/></a>"
      ]
    },
    {
      "cell_type": "code",
      "execution_count": 1,
      "metadata": {
        "colab": {
          "base_uri": "https://localhost:8080/"
        },
        "id": "Hjcyov1vFtBr",
        "outputId": "24d3d331-1925-4abe-f249-e3090c2ae406"
      },
      "outputs": [
        {
          "output_type": "stream",
          "name": "stdout",
          "text": [
            "Mounted at /content/drive\n"
          ]
        }
      ],
      "source": [
        "from google.colab import drive\n",
        "drive.mount('/content/drive')\n"
      ]
    },
    {
      "cell_type": "code",
      "source": [
        "import os\n",
        "\n",
        "# Caminho da pasta no Google Drive\n",
        "caminho_pasta = \"/content/drive/MyDrive/AssistenteVirtual\"\n",
        "\n",
        "# Criar a pasta se ela não existir\n",
        "if not os.path.exists(caminho_pasta):\n",
        "    os.makedirs(caminho_pasta)\n",
        "    print(f\"Pasta criada em: {caminho_pasta}\")\n",
        "else:\n",
        "    print(\"A pasta já existe!\")\n"
      ],
      "metadata": {
        "colab": {
          "base_uri": "https://localhost:8080/"
        },
        "id": "KdFoCQQ2GDnr",
        "outputId": "53a1703e-d2be-4ec2-a060-1be9cbb108a0"
      },
      "execution_count": 2,
      "outputs": [
        {
          "output_type": "stream",
          "name": "stdout",
          "text": [
            "Pasta criada em: /content/drive/MyDrive/AssistenteVirtual\n"
          ]
        }
      ]
    },
    {
      "cell_type": "code",
      "source": [
        "!pip install speechrecognition pyttsx3 wikipedia-api geopy\n"
      ],
      "metadata": {
        "colab": {
          "base_uri": "https://localhost:8080/"
        },
        "id": "-4v5u5JZGtiY",
        "outputId": "034f5f5d-c22b-4aad-9ed5-e8e24961866c"
      },
      "execution_count": 3,
      "outputs": [
        {
          "output_type": "stream",
          "name": "stdout",
          "text": [
            "Collecting speechrecognition\n",
            "  Downloading SpeechRecognition-3.14.1-py3-none-any.whl.metadata (31 kB)\n",
            "Collecting pyttsx3\n",
            "  Downloading pyttsx3-2.98-py3-none-any.whl.metadata (3.8 kB)\n",
            "Collecting wikipedia-api\n",
            "  Downloading wikipedia_api-0.8.1.tar.gz (19 kB)\n",
            "  Preparing metadata (setup.py) ... \u001b[?25l\u001b[?25hdone\n",
            "Requirement already satisfied: geopy in /usr/local/lib/python3.11/dist-packages (2.4.1)\n",
            "Requirement already satisfied: typing-extensions in /usr/local/lib/python3.11/dist-packages (from speechrecognition) (4.12.2)\n",
            "Requirement already satisfied: requests in /usr/local/lib/python3.11/dist-packages (from wikipedia-api) (2.32.3)\n",
            "Requirement already satisfied: geographiclib<3,>=1.52 in /usr/local/lib/python3.11/dist-packages (from geopy) (2.0)\n",
            "Requirement already satisfied: charset-normalizer<4,>=2 in /usr/local/lib/python3.11/dist-packages (from requests->wikipedia-api) (3.4.1)\n",
            "Requirement already satisfied: idna<4,>=2.5 in /usr/local/lib/python3.11/dist-packages (from requests->wikipedia-api) (3.10)\n",
            "Requirement already satisfied: urllib3<3,>=1.21.1 in /usr/local/lib/python3.11/dist-packages (from requests->wikipedia-api) (2.3.0)\n",
            "Requirement already satisfied: certifi>=2017.4.17 in /usr/local/lib/python3.11/dist-packages (from requests->wikipedia-api) (2025.1.31)\n",
            "Downloading SpeechRecognition-3.14.1-py3-none-any.whl (32.9 MB)\n",
            "\u001b[2K   \u001b[90m━━━━━━━━━━━━━━━━━━━━━━━━━━━━━━━━━━━━━━━━\u001b[0m \u001b[32m32.9/32.9 MB\u001b[0m \u001b[31m53.7 MB/s\u001b[0m eta \u001b[36m0:00:00\u001b[0m\n",
            "\u001b[?25hDownloading pyttsx3-2.98-py3-none-any.whl (34 kB)\n",
            "Building wheels for collected packages: wikipedia-api\n",
            "  Building wheel for wikipedia-api (setup.py) ... \u001b[?25l\u001b[?25hdone\n",
            "  Created wheel for wikipedia-api: filename=Wikipedia_API-0.8.1-py3-none-any.whl size=15384 sha256=f4719f5c43ad46132567eeab16c687653115bc11930e3101fae7dc7b27edc40f\n",
            "  Stored in directory: /root/.cache/pip/wheels/0b/0f/39/e8214ec038ccd5aeb8c82b957289f2f3ab2251febeae5c2860\n",
            "Successfully built wikipedia-api\n",
            "Installing collected packages: pyttsx3, speechrecognition, wikipedia-api\n",
            "Successfully installed pyttsx3-2.98 speechrecognition-3.14.1 wikipedia-api-0.8.1\n"
          ]
        }
      ]
    },
    {
      "cell_type": "code",
      "source": [
        "import os\n",
        "\n",
        "# Caminho da pasta no Google Drive\n",
        "caminho_pasta = \"/content/drive/MyDrive/AssistenteVirtual\"\n",
        "\n",
        "# Verifica se a pasta existe\n",
        "if os.path.exists(caminho_pasta):\n",
        "    print(\"✅ A pasta existe no Google Drive!\")\n",
        "    print(\"📂 Conteúdo da pasta:\", os.listdir(caminho_pasta))\n",
        "else:\n",
        "    print(\"⚠️ A pasta NÃO existe. Verifique se foi criada corretamente.\")\n"
      ],
      "metadata": {
        "colab": {
          "base_uri": "https://localhost:8080/"
        },
        "id": "rrl_vwkeG4cQ",
        "outputId": "06616c8e-cb6e-47b8-cd75-0a7ca502cdcc"
      },
      "execution_count": 4,
      "outputs": [
        {
          "output_type": "stream",
          "name": "stdout",
          "text": [
            "✅ A pasta existe no Google Drive!\n",
            "📂 Conteúdo da pasta: []\n"
          ]
        }
      ]
    },
    {
      "cell_type": "code",
      "source": [
        "from google.colab import drive\n",
        "drive.mount('/content/drive')\n"
      ],
      "metadata": {
        "colab": {
          "base_uri": "https://localhost:8080/"
        },
        "id": "2S3ZQ1aiXx4a",
        "outputId": "be4cbf11-a2a1-4702-ff60-8e0e230656d7"
      },
      "execution_count": 39,
      "outputs": [
        {
          "output_type": "stream",
          "name": "stdout",
          "text": [
            "Drive already mounted at /content/drive; to attempt to forcibly remount, call drive.mount(\"/content/drive\", force_remount=True).\n"
          ]
        }
      ]
    },
    {
      "cell_type": "code",
      "source": [
        "import os\n",
        "\n",
        "# Verificando o conteúdo da pasta AssistenteVirtual\n",
        "drive_path = '/content/drive/MyDrive/AssistenteVirtual'\n",
        "print(\"Conteúdo da pasta:\", os.listdir(drive_path))\n"
      ],
      "metadata": {
        "colab": {
          "base_uri": "https://localhost:8080/"
        },
        "id": "aiFlGS_9N-33",
        "outputId": "7d6ebcfb-4897-4fc6-cc31-6d04332604a4"
      },
      "execution_count": 40,
      "outputs": [
        {
          "output_type": "stream",
          "name": "stdout",
          "text": [
            "Conteúdo da pasta: ['dataset']\n"
          ]
        }
      ]
    },
    {
      "cell_type": "code",
      "source": [
        "import os\n",
        "\n",
        "# Caminho da pasta no Google Drive\n",
        "pasta_drive = '/content/drive/MyDrive/AssistenteVirtual'\n",
        "\n",
        "# Verificando o conteúdo da pasta\n",
        "conteudo_pasta = os.listdir(pasta_drive)\n",
        "print(f\"Conteúdo da pasta '{pasta_drive}': {conteudo_pasta}\")\n"
      ],
      "metadata": {
        "colab": {
          "base_uri": "https://localhost:8080/"
        },
        "id": "LMD4yrt0ZTo8",
        "outputId": "0d5e4df2-9f9a-4a7c-dc7e-44048416cefc"
      },
      "execution_count": 41,
      "outputs": [
        {
          "output_type": "stream",
          "name": "stdout",
          "text": [
            "Conteúdo da pasta '/content/drive/MyDrive/AssistenteVirtual': ['dataset']\n"
          ]
        }
      ]
    },
    {
      "cell_type": "code",
      "source": [
        "import os\n",
        "\n",
        "# Função para procurar o arquivo no Google Drive\n",
        "def buscar_arquivo(arquivo_nome, caminho_pasta):\n",
        "    for root, dirs, files in os.walk(caminho_pasta):\n",
        "        if arquivo_nome in files:\n",
        "            return os.path.join(root, arquivo_nome)\n",
        "    return None\n",
        "\n",
        "# Caminho para a raiz do Google Drive\n",
        "caminho_drive = '/content/drive/MyDrive/'\n",
        "\n",
        "# Nome do arquivo\n",
        "arquivo_nome = 'kaggle.json'\n",
        "\n",
        "# Buscando o arquivo\n",
        "caminho_arquivo = buscar_arquivo(arquivo_nome, caminho_drive)\n",
        "\n",
        "if caminho_arquivo:\n",
        "    print(f\"Arquivo encontrado em: {caminho_arquivo}\")\n",
        "else:\n",
        "    print(\"Arquivo não encontrado.\")\n"
      ],
      "metadata": {
        "colab": {
          "base_uri": "https://localhost:8080/"
        },
        "id": "eMGn3Hp3Zhl8",
        "outputId": "5d271295-563f-4d9d-aa0e-0b6f7ed4aa1a"
      },
      "execution_count": 42,
      "outputs": [
        {
          "output_type": "stream",
          "name": "stdout",
          "text": [
            "Arquivo não encontrado.\n"
          ]
        }
      ]
    },
    {
      "cell_type": "code",
      "source": [
        "import shutil\n",
        "\n",
        "# Caminho do arquivo kaggle.json\n",
        "kaggle_json_path = '/content/drive/MyDrive/AssistenteVirtual/kaggle.json'\n",
        "\n",
        "# Caminho de destino para o diretório .kaggle\n",
        "destination_path = '/root/.kaggle/kaggle.json'\n",
        "\n",
        "# Movendo o arquivo para o diretório correto\n",
        "shutil.copy(kaggle_json_path, destination_path)\n"
      ],
      "metadata": {
        "colab": {
          "base_uri": "https://localhost:8080/",
          "height": 36
        },
        "id": "gPLqUBFLbYwY",
        "outputId": "56f797e0-2154-4a57-d74c-c37e5e9cbdf9"
      },
      "execution_count": 43,
      "outputs": [
        {
          "output_type": "execute_result",
          "data": {
            "text/plain": [
              "'/root/.kaggle/kaggle.json'"
            ],
            "application/vnd.google.colaboratory.intrinsic+json": {
              "type": "string"
            }
          },
          "metadata": {},
          "execution_count": 43
        }
      ]
    },
    {
      "cell_type": "code",
      "source": [
        "import os\n",
        "\n",
        "# Alterar permissões para garantir o acesso\n",
        "os.chmod(destination_path, 0o600)\n"
      ],
      "metadata": {
        "id": "Afs2f9OUbb1c"
      },
      "execution_count": 44,
      "outputs": []
    },
    {
      "cell_type": "code",
      "source": [
        "!kaggle datasets download -d diegobrunoDIO/Speech-to-text-ML-DIO\n"
      ],
      "metadata": {
        "colab": {
          "base_uri": "https://localhost:8080/"
        },
        "id": "kmGWWCWNbhuk",
        "outputId": "a88bc4b5-6fd9-4b2d-db39-dd35b39448e9"
      },
      "execution_count": 45,
      "outputs": [
        {
          "output_type": "stream",
          "name": "stdout",
          "text": [
            "403 - Forbidden - Permission 'datasets.get' was denied\n"
          ]
        }
      ]
    },
    {
      "cell_type": "code",
      "source": [
        "import os\n",
        "\n",
        "# Caminho onde o arquivo kaggle.json deveria estar\n",
        "kaggle_json_path = '/root/.kaggle/kaggle.json'\n",
        "\n",
        "# Verificando se o arquivo existe\n",
        "if os.path.exists(kaggle_json_path):\n",
        "    print(\"Arquivo kaggle.json encontrado.\")\n",
        "else:\n",
        "    print(\"Arquivo kaggle.json não encontrado. Verifique a configuração.\")\n"
      ],
      "metadata": {
        "colab": {
          "base_uri": "https://localhost:8080/"
        },
        "id": "hLTEyDD4cRSP",
        "outputId": "97503311-36ea-4cf7-dea1-acfde403904d"
      },
      "execution_count": 46,
      "outputs": [
        {
          "output_type": "stream",
          "name": "stdout",
          "text": [
            "Arquivo kaggle.json encontrado.\n"
          ]
        }
      ]
    },
    {
      "cell_type": "code",
      "source": [
        "# Abrir o arquivo para verificar seu conteúdo\n",
        "with open(kaggle_json_path, 'r') as file:\n",
        "    content = file.read()\n",
        "    print(\"Conteúdo do kaggle.json:\")\n",
        "    print(content)\n"
      ],
      "metadata": {
        "colab": {
          "base_uri": "https://localhost:8080/"
        },
        "id": "QfiVihwtcX8H",
        "outputId": "1044de7c-6613-4a3c-dea1-89bc4c786b83"
      },
      "execution_count": 47,
      "outputs": [
        {
          "output_type": "stream",
          "name": "stdout",
          "text": [
            "Conteúdo do kaggle.json:\n",
            "{\"username\":\"fiaptreinamento\",\"key\":\"f323c1e9ae57b39ae808ad4fcd4d207f\"}\n"
          ]
        }
      ]
    },
    {
      "cell_type": "code",
      "source": [
        "import stat\n",
        "\n",
        "# Verifique as permissões do arquivo\n",
        "permissions = os.stat(kaggle_json_path).st_mode\n",
        "print(\"Permissões do arquivo:\", oct(permissions))\n"
      ],
      "metadata": {
        "colab": {
          "base_uri": "https://localhost:8080/"
        },
        "id": "1w_PVF_LccNf",
        "outputId": "c9c9c64e-ae0c-42ef-d755-bf7bb4d83f96"
      },
      "execution_count": 48,
      "outputs": [
        {
          "output_type": "stream",
          "name": "stdout",
          "text": [
            "Permissões do arquivo: 0o100600\n"
          ]
        }
      ]
    },
    {
      "cell_type": "code",
      "source": [
        "!kaggle datasets list\n"
      ],
      "metadata": {
        "colab": {
          "base_uri": "https://localhost:8080/"
        },
        "id": "Rsc_oR18cnoo",
        "outputId": "d5509845-1f6a-4679-a052-cd2aea13e912"
      },
      "execution_count": 49,
      "outputs": [
        {
          "output_type": "stream",
          "name": "stdout",
          "text": [
            "ref                                                          title                                              size  lastUpdated          downloadCount  voteCount  usabilityRating  \n",
            "-----------------------------------------------------------  ------------------------------------------------  -----  -------------------  -------------  ---------  ---------------  \n",
            "asinow/car-price-dataset                                     Car Price Dataset                                 135KB  2025-01-26 19:53:28           5523         70  1.0              \n",
            "anandshaw2001/netflix-movies-and-tv-shows                    Netflix Movies and TV Shows                         1MB  2025-01-03 10:33:01          15766        416  1.0              \n",
            "avis02/crime-data-from-2020-to-present                       Crime Data from 2020 to 2025 LAPD                  49MB  2025-02-05 11:11:01            967         64  1.0              \n",
            "sachinkumar62/movies-details                                 Movies dataset details                              1MB  2025-02-04 14:32:28           1139         25  1.0              \n",
            "andrexibiza/grocery-sales-dataset                            Grocery Sales Database                            223MB  2025-01-31 19:04:00           1509         31  1.0              \n",
            "ruchikakumbhar/zomato-dataset                                Zomato Dataset                                      2KB  2025-01-21 03:59:39           2376         32  1.0              \n",
            "ashaychoudhary/diabetes-prediction-in-america-dataset        Diabetes Prediction in America Dataset              2MB  2025-02-04 10:35:49           1356         26  1.0              \n",
            "asinow/laptop-price-dataset                                  Laptop Price Dataset                              181KB  2025-02-01 04:20:16           1378         41  1.0              \n",
            "vivekattri/global-ev-charging-stations-dataset               Global EV Charging Stations Dataset               165KB  2025-01-25 17:51:01            858         22  1.0              \n",
            "ankushpanday1/alzheimers-prediction-dataset-global           Alzheimer’s Prediction Dataset (Global)             1MB  2025-01-30 14:38:39           2156         37  1.0              \n",
            "wlwwwlw/elite-sports-cars-in-data                            Elite Sports Cars in Data                         289KB  2025-02-02 21:23:19           1070         29  1.0              \n",
            "himelsarder/road-accident-survival-dataset                   Road Accident Survival Dataset                      1KB  2025-01-18 06:00:32           2668         28  1.0              \n",
            "ashaychoudhary/advertising-campaign-performance-dataset      📊 Advertising Campaign Performance Dataset         51KB  2025-02-03 04:49:29            856         30  1.0              \n",
            "ashaychoudhary/anxiety-attack-factors-symptoms-and-severity  Anxiety Attack : Factors, Symptoms, and Severity  244KB  2025-01-19 11:56:21           3962         68  1.0              \n",
            "sgoutami/spotify-streaming-history                           Spotify Streaming History                           6MB  2025-01-25 05:14:49           1160         21  1.0              \n",
            "ankushpanday1/thyroid-cancer-risk-prediction-dataset         Thyroid Cancer Risk Prediction Dataset              4MB  2025-02-03 14:25:31           1008         28  1.0              \n",
            "xavierberge/road-accident-dataset                            Road Accident dataset                              47MB  2025-02-05 00:32:37           1458         28  0.9411765        \n",
            "gazal5277/e-commerce-product-and-customer-dataset            E-Commerce Product and Customer Dataset           103KB  2025-02-06 06:37:32            609         44  1.0              \n",
            "vivekattri/california-wildfire-damage-2014-feb2025           California Wildfire Damage (2014-(feb)2025)         3KB  2025-02-05 10:05:12            758         27  0.9411765        \n",
            "asinow/airplane-price-dataset                                Airplane Price Dataset                            238KB  2025-01-28 18:36:41           2586         40  0.9411765        \n"
          ]
        }
      ]
    },
    {
      "cell_type": "code",
      "source": [
        "import shutil\n",
        "\n",
        "# Caminho do arquivo kaggle.json no Google Drive\n",
        "drive_path = '/content/drive/MyDrive/AssistenteVirtual/kaggle.json'\n",
        "\n",
        "# Copiar para o diretório correto\n",
        "shutil.copy(drive_path, kaggle_json_path)\n",
        "\n",
        "# Alterar permissões para garantir leitura\n",
        "os.chmod(kaggle_json_path, stat.S_IRUSR | stat.S_IWUSR)\n",
        "\n",
        "print(\"Arquivo kaggle.json copiado e permissões alteradas com sucesso!\")\n"
      ],
      "metadata": {
        "colab": {
          "base_uri": "https://localhost:8080/"
        },
        "id": "BBWtX3JScsX5",
        "outputId": "15fbe54b-5b9f-4fb6-a98d-8c42d4cf7c68"
      },
      "execution_count": 50,
      "outputs": [
        {
          "output_type": "stream",
          "name": "stdout",
          "text": [
            "Arquivo kaggle.json copiado e permissões alteradas com sucesso!\n"
          ]
        }
      ]
    },
    {
      "cell_type": "code",
      "source": [
        "!kaggle datasets download -d diegobrunoDIO/Speech-to-text-ML-DIO -p /content/drive/MyDrive/AssistenteVirtual/dataset\n"
      ],
      "metadata": {
        "colab": {
          "base_uri": "https://localhost:8080/"
        },
        "id": "k-MZp-t6czy8",
        "outputId": "9bbbfa09-d604-47f1-9bf8-cb8798048db2"
      },
      "execution_count": 51,
      "outputs": [
        {
          "output_type": "stream",
          "name": "stdout",
          "text": [
            "403 - Forbidden - Permission 'datasets.get' was denied\n"
          ]
        }
      ]
    },
    {
      "cell_type": "code",
      "source": [
        "import os\n",
        "\n",
        "# Verifique se a chave de API do Kaggle está configurada corretamente\n",
        "kaggle_json_path = '/root/.kaggle/kaggle.json'\n",
        "\n",
        "if os.path.exists(kaggle_json_path):\n",
        "    print(\"Kaggle API Key configurada corretamente!\")\n",
        "else:\n",
        "    print(\"Kaggle API Key não encontrada!\")\n"
      ],
      "metadata": {
        "colab": {
          "base_uri": "https://localhost:8080/"
        },
        "id": "UfmX10YQdShc",
        "outputId": "ec1bbc9e-db23-4e06-f518-1400263c20d9"
      },
      "execution_count": 52,
      "outputs": [
        {
          "output_type": "stream",
          "name": "stdout",
          "text": [
            "Kaggle API Key configurada corretamente!\n"
          ]
        }
      ]
    },
    {
      "cell_type": "code",
      "source": [
        "!kaggle datasets download -d 'zillow/zecon' -p /content/drive/MyDrive/AssistenteVirtual/dataset\n"
      ],
      "metadata": {
        "colab": {
          "base_uri": "https://localhost:8080/"
        },
        "id": "G2s-P0fWdfNi",
        "outputId": "6395fb28-25cb-4e2b-e5a4-9d2a0aa3f1a2"
      },
      "execution_count": 53,
      "outputs": [
        {
          "output_type": "stream",
          "name": "stdout",
          "text": [
            "Dataset URL: https://www.kaggle.com/datasets/zillow/zecon\n",
            "License(s): copyright-authors\n",
            "Downloading zecon.zip to /content/drive/MyDrive/AssistenteVirtual/dataset\n",
            " 99% 504M/511M [00:05<00:00, 111MB/s] \n",
            "100% 511M/511M [00:05<00:00, 90.6MB/s]\n"
          ]
        }
      ]
    },
    {
      "cell_type": "code",
      "source": [
        "import zipfile\n",
        "import os\n",
        "\n",
        "# Caminho do arquivo ZIP\n",
        "zip_path = '/content/drive/MyDrive/AssistenteVirtual/dataset/zecon.zip'\n",
        "extract_path = '/content/drive/MyDrive/AssistenteVirtual/dataset/zecon/'\n",
        "\n",
        "# Extraindo o arquivo ZIP\n",
        "with zipfile.ZipFile(zip_path, 'r') as zip_ref:\n",
        "    zip_ref.extractall(extract_path)\n",
        "\n",
        "print(\"Arquivo extraído com sucesso!\")\n"
      ],
      "metadata": {
        "colab": {
          "base_uri": "https://localhost:8080/"
        },
        "id": "uAB_SoOxdkWO",
        "outputId": "7ccf28b8-3c28-438b-96c4-0ff4e3a5f08f"
      },
      "execution_count": 54,
      "outputs": [
        {
          "output_type": "stream",
          "name": "stdout",
          "text": [
            "Arquivo extraído com sucesso!\n"
          ]
        }
      ]
    },
    {
      "cell_type": "code",
      "source": [
        "# Verificando os arquivos extraídos\n",
        "extracted_files = os.listdir(extract_path)\n",
        "print(f\"Arquivos extraídos: {extracted_files}\")\n"
      ],
      "metadata": {
        "colab": {
          "base_uri": "https://localhost:8080/"
        },
        "id": "N9DhET8ieccT",
        "outputId": "59131b5d-0492-4c4b-a1b0-39312c1ebc4e"
      },
      "execution_count": 55,
      "outputs": [
        {
          "output_type": "stream",
          "name": "stdout",
          "text": [
            "Arquivos extraídos: ['City_time_series.csv', 'CountyCrossWalk_Zillow.csv', 'County_time_series.csv', 'DataDictionary.csv', 'Metro_time_series.csv', 'Neighborhood_time_series.csv', 'State_time_series.csv', 'Zip_time_series.csv', 'all_available_metrics.json', 'cities_crosswalk.csv', 'fields_per_level.json']\n"
          ]
        }
      ]
    },
    {
      "cell_type": "code",
      "source": [
        "import os\n",
        "\n",
        "# Caminho do diretório onde o arquivo foi extraído\n",
        "extract_path = '/content/drive/MyDrive/AssistenteVirtual/dataset/zecon'\n",
        "\n",
        "# Verificando o conteúdo do diretório\n",
        "conteudo = os.listdir(extract_path)\n",
        "print(conteudo)\n"
      ],
      "metadata": {
        "colab": {
          "base_uri": "https://localhost:8080/"
        },
        "id": "uy_dcrWdfym_",
        "outputId": "ae9a2f28-2227-4767-a0ca-c240504ece1a"
      },
      "execution_count": 58,
      "outputs": [
        {
          "output_type": "stream",
          "name": "stdout",
          "text": [
            "['City_time_series.csv', 'CountyCrossWalk_Zillow.csv', 'County_time_series.csv', 'DataDictionary.csv', 'Metro_time_series.csv', 'Neighborhood_time_series.csv', 'State_time_series.csv', 'Zip_time_series.csv', 'all_available_metrics.json', 'cities_crosswalk.csv', 'fields_per_level.json']\n"
          ]
        }
      ]
    },
    {
      "cell_type": "code",
      "source": [
        "import pandas as pd\n",
        "\n",
        "# Caminho correto para o arquivo CSV\n",
        "csv_file_path = '/content/drive/MyDrive/AssistenteVirtual/dataset/zecon/City_time_series.csv'\n",
        "\n",
        "# Carregando os dados em um DataFrame\n",
        "dados = pd.read_csv(csv_file_path)\n",
        "\n",
        "# Exibindo as primeiras linhas para verificar os dados\n",
        "dados.head()\n"
      ],
      "metadata": {
        "colab": {
          "base_uri": "https://localhost:8080/",
          "height": 342
        },
        "id": "yCOY9bggf5C2",
        "outputId": "81bd2aa2-d4cc-4145-9001-97ce9f6a8f72"
      },
      "execution_count": 59,
      "outputs": [
        {
          "output_type": "execute_result",
          "data": {
            "text/plain": [
              "         Date          RegionName  InventorySeasonallyAdjusted_AllHomes  \\\n",
              "0  1996-04-30  abbottstownadamspa                                   NaN   \n",
              "1  1996-04-30   aberdeenbinghamid                                   NaN   \n",
              "2  1996-04-30   aberdeenharfordmd                                   NaN   \n",
              "3  1996-04-30    aberdeenmonroems                                   NaN   \n",
              "4  1996-04-30     aberdeenmoorenc                                   NaN   \n",
              "\n",
              "   InventoryRaw_AllHomes  MedianListingPricePerSqft_1Bedroom  \\\n",
              "0                    NaN                                 NaN   \n",
              "1                    NaN                                 NaN   \n",
              "2                    NaN                                 NaN   \n",
              "3                    NaN                                 NaN   \n",
              "4                    NaN                                 NaN   \n",
              "\n",
              "   MedianListingPricePerSqft_2Bedroom  MedianListingPricePerSqft_3Bedroom  \\\n",
              "0                                 NaN                                 NaN   \n",
              "1                                 NaN                                 NaN   \n",
              "2                                 NaN                                 NaN   \n",
              "3                                 NaN                                 NaN   \n",
              "4                                 NaN                                 NaN   \n",
              "\n",
              "   MedianListingPricePerSqft_4Bedroom  \\\n",
              "0                                 NaN   \n",
              "1                                 NaN   \n",
              "2                                 NaN   \n",
              "3                                 NaN   \n",
              "4                                 NaN   \n",
              "\n",
              "   MedianListingPricePerSqft_5BedroomOrMore  \\\n",
              "0                                       NaN   \n",
              "1                                       NaN   \n",
              "2                                       NaN   \n",
              "3                                       NaN   \n",
              "4                                       NaN   \n",
              "\n",
              "   MedianListingPricePerSqft_AllHomes  ...  ZHVI_BottomTier  ZHVI_CondoCoop  \\\n",
              "0                                 NaN  ...              NaN             NaN   \n",
              "1                                 NaN  ...              NaN             NaN   \n",
              "2                                 NaN  ...          81300.0        137900.0   \n",
              "3                                 NaN  ...              NaN             NaN   \n",
              "4                                 NaN  ...              NaN             NaN   \n",
              "\n",
              "   ZHVI_MiddleTier  ZHVI_SingleFamilyResidence  ZHVI_TopTier  ZRI_AllHomes  \\\n",
              "0              NaN                         NaN      108700.0           NaN   \n",
              "1              NaN                         NaN      168400.0           NaN   \n",
              "2         109600.0                    108600.0      147900.0           NaN   \n",
              "3              NaN                         NaN       74500.0           NaN   \n",
              "4              NaN                         NaN      131100.0           NaN   \n",
              "\n",
              "   ZRI_AllHomesPlusMultifamily  ZriPerSqft_AllHomes  \\\n",
              "0                          NaN                  NaN   \n",
              "1                          NaN                  NaN   \n",
              "2                          NaN                  NaN   \n",
              "3                          NaN                  NaN   \n",
              "4                          NaN                  NaN   \n",
              "\n",
              "   Zri_MultiFamilyResidenceRental  Zri_SingleFamilyResidenceRental  \n",
              "0                             NaN                              NaN  \n",
              "1                             NaN                              NaN  \n",
              "2                             NaN                              NaN  \n",
              "3                             NaN                              NaN  \n",
              "4                             NaN                              NaN  \n",
              "\n",
              "[5 rows x 81 columns]"
            ],
            "text/html": [
              "\n",
              "  <div id=\"df-307edafd-5537-4608-8eb9-91ae67ab0502\" class=\"colab-df-container\">\n",
              "    <div>\n",
              "<style scoped>\n",
              "    .dataframe tbody tr th:only-of-type {\n",
              "        vertical-align: middle;\n",
              "    }\n",
              "\n",
              "    .dataframe tbody tr th {\n",
              "        vertical-align: top;\n",
              "    }\n",
              "\n",
              "    .dataframe thead th {\n",
              "        text-align: right;\n",
              "    }\n",
              "</style>\n",
              "<table border=\"1\" class=\"dataframe\">\n",
              "  <thead>\n",
              "    <tr style=\"text-align: right;\">\n",
              "      <th></th>\n",
              "      <th>Date</th>\n",
              "      <th>RegionName</th>\n",
              "      <th>InventorySeasonallyAdjusted_AllHomes</th>\n",
              "      <th>InventoryRaw_AllHomes</th>\n",
              "      <th>MedianListingPricePerSqft_1Bedroom</th>\n",
              "      <th>MedianListingPricePerSqft_2Bedroom</th>\n",
              "      <th>MedianListingPricePerSqft_3Bedroom</th>\n",
              "      <th>MedianListingPricePerSqft_4Bedroom</th>\n",
              "      <th>MedianListingPricePerSqft_5BedroomOrMore</th>\n",
              "      <th>MedianListingPricePerSqft_AllHomes</th>\n",
              "      <th>...</th>\n",
              "      <th>ZHVI_BottomTier</th>\n",
              "      <th>ZHVI_CondoCoop</th>\n",
              "      <th>ZHVI_MiddleTier</th>\n",
              "      <th>ZHVI_SingleFamilyResidence</th>\n",
              "      <th>ZHVI_TopTier</th>\n",
              "      <th>ZRI_AllHomes</th>\n",
              "      <th>ZRI_AllHomesPlusMultifamily</th>\n",
              "      <th>ZriPerSqft_AllHomes</th>\n",
              "      <th>Zri_MultiFamilyResidenceRental</th>\n",
              "      <th>Zri_SingleFamilyResidenceRental</th>\n",
              "    </tr>\n",
              "  </thead>\n",
              "  <tbody>\n",
              "    <tr>\n",
              "      <th>0</th>\n",
              "      <td>1996-04-30</td>\n",
              "      <td>abbottstownadamspa</td>\n",
              "      <td>NaN</td>\n",
              "      <td>NaN</td>\n",
              "      <td>NaN</td>\n",
              "      <td>NaN</td>\n",
              "      <td>NaN</td>\n",
              "      <td>NaN</td>\n",
              "      <td>NaN</td>\n",
              "      <td>NaN</td>\n",
              "      <td>...</td>\n",
              "      <td>NaN</td>\n",
              "      <td>NaN</td>\n",
              "      <td>NaN</td>\n",
              "      <td>NaN</td>\n",
              "      <td>108700.0</td>\n",
              "      <td>NaN</td>\n",
              "      <td>NaN</td>\n",
              "      <td>NaN</td>\n",
              "      <td>NaN</td>\n",
              "      <td>NaN</td>\n",
              "    </tr>\n",
              "    <tr>\n",
              "      <th>1</th>\n",
              "      <td>1996-04-30</td>\n",
              "      <td>aberdeenbinghamid</td>\n",
              "      <td>NaN</td>\n",
              "      <td>NaN</td>\n",
              "      <td>NaN</td>\n",
              "      <td>NaN</td>\n",
              "      <td>NaN</td>\n",
              "      <td>NaN</td>\n",
              "      <td>NaN</td>\n",
              "      <td>NaN</td>\n",
              "      <td>...</td>\n",
              "      <td>NaN</td>\n",
              "      <td>NaN</td>\n",
              "      <td>NaN</td>\n",
              "      <td>NaN</td>\n",
              "      <td>168400.0</td>\n",
              "      <td>NaN</td>\n",
              "      <td>NaN</td>\n",
              "      <td>NaN</td>\n",
              "      <td>NaN</td>\n",
              "      <td>NaN</td>\n",
              "    </tr>\n",
              "    <tr>\n",
              "      <th>2</th>\n",
              "      <td>1996-04-30</td>\n",
              "      <td>aberdeenharfordmd</td>\n",
              "      <td>NaN</td>\n",
              "      <td>NaN</td>\n",
              "      <td>NaN</td>\n",
              "      <td>NaN</td>\n",
              "      <td>NaN</td>\n",
              "      <td>NaN</td>\n",
              "      <td>NaN</td>\n",
              "      <td>NaN</td>\n",
              "      <td>...</td>\n",
              "      <td>81300.0</td>\n",
              "      <td>137900.0</td>\n",
              "      <td>109600.0</td>\n",
              "      <td>108600.0</td>\n",
              "      <td>147900.0</td>\n",
              "      <td>NaN</td>\n",
              "      <td>NaN</td>\n",
              "      <td>NaN</td>\n",
              "      <td>NaN</td>\n",
              "      <td>NaN</td>\n",
              "    </tr>\n",
              "    <tr>\n",
              "      <th>3</th>\n",
              "      <td>1996-04-30</td>\n",
              "      <td>aberdeenmonroems</td>\n",
              "      <td>NaN</td>\n",
              "      <td>NaN</td>\n",
              "      <td>NaN</td>\n",
              "      <td>NaN</td>\n",
              "      <td>NaN</td>\n",
              "      <td>NaN</td>\n",
              "      <td>NaN</td>\n",
              "      <td>NaN</td>\n",
              "      <td>...</td>\n",
              "      <td>NaN</td>\n",
              "      <td>NaN</td>\n",
              "      <td>NaN</td>\n",
              "      <td>NaN</td>\n",
              "      <td>74500.0</td>\n",
              "      <td>NaN</td>\n",
              "      <td>NaN</td>\n",
              "      <td>NaN</td>\n",
              "      <td>NaN</td>\n",
              "      <td>NaN</td>\n",
              "    </tr>\n",
              "    <tr>\n",
              "      <th>4</th>\n",
              "      <td>1996-04-30</td>\n",
              "      <td>aberdeenmoorenc</td>\n",
              "      <td>NaN</td>\n",
              "      <td>NaN</td>\n",
              "      <td>NaN</td>\n",
              "      <td>NaN</td>\n",
              "      <td>NaN</td>\n",
              "      <td>NaN</td>\n",
              "      <td>NaN</td>\n",
              "      <td>NaN</td>\n",
              "      <td>...</td>\n",
              "      <td>NaN</td>\n",
              "      <td>NaN</td>\n",
              "      <td>NaN</td>\n",
              "      <td>NaN</td>\n",
              "      <td>131100.0</td>\n",
              "      <td>NaN</td>\n",
              "      <td>NaN</td>\n",
              "      <td>NaN</td>\n",
              "      <td>NaN</td>\n",
              "      <td>NaN</td>\n",
              "    </tr>\n",
              "  </tbody>\n",
              "</table>\n",
              "<p>5 rows × 81 columns</p>\n",
              "</div>\n",
              "    <div class=\"colab-df-buttons\">\n",
              "\n",
              "  <div class=\"colab-df-container\">\n",
              "    <button class=\"colab-df-convert\" onclick=\"convertToInteractive('df-307edafd-5537-4608-8eb9-91ae67ab0502')\"\n",
              "            title=\"Convert this dataframe to an interactive table.\"\n",
              "            style=\"display:none;\">\n",
              "\n",
              "  <svg xmlns=\"http://www.w3.org/2000/svg\" height=\"24px\" viewBox=\"0 -960 960 960\">\n",
              "    <path d=\"M120-120v-720h720v720H120Zm60-500h600v-160H180v160Zm220 220h160v-160H400v160Zm0 220h160v-160H400v160ZM180-400h160v-160H180v160Zm440 0h160v-160H620v160ZM180-180h160v-160H180v160Zm440 0h160v-160H620v160Z\"/>\n",
              "  </svg>\n",
              "    </button>\n",
              "\n",
              "  <style>\n",
              "    .colab-df-container {\n",
              "      display:flex;\n",
              "      gap: 12px;\n",
              "    }\n",
              "\n",
              "    .colab-df-convert {\n",
              "      background-color: #E8F0FE;\n",
              "      border: none;\n",
              "      border-radius: 50%;\n",
              "      cursor: pointer;\n",
              "      display: none;\n",
              "      fill: #1967D2;\n",
              "      height: 32px;\n",
              "      padding: 0 0 0 0;\n",
              "      width: 32px;\n",
              "    }\n",
              "\n",
              "    .colab-df-convert:hover {\n",
              "      background-color: #E2EBFA;\n",
              "      box-shadow: 0px 1px 2px rgba(60, 64, 67, 0.3), 0px 1px 3px 1px rgba(60, 64, 67, 0.15);\n",
              "      fill: #174EA6;\n",
              "    }\n",
              "\n",
              "    .colab-df-buttons div {\n",
              "      margin-bottom: 4px;\n",
              "    }\n",
              "\n",
              "    [theme=dark] .colab-df-convert {\n",
              "      background-color: #3B4455;\n",
              "      fill: #D2E3FC;\n",
              "    }\n",
              "\n",
              "    [theme=dark] .colab-df-convert:hover {\n",
              "      background-color: #434B5C;\n",
              "      box-shadow: 0px 1px 3px 1px rgba(0, 0, 0, 0.15);\n",
              "      filter: drop-shadow(0px 1px 2px rgba(0, 0, 0, 0.3));\n",
              "      fill: #FFFFFF;\n",
              "    }\n",
              "  </style>\n",
              "\n",
              "    <script>\n",
              "      const buttonEl =\n",
              "        document.querySelector('#df-307edafd-5537-4608-8eb9-91ae67ab0502 button.colab-df-convert');\n",
              "      buttonEl.style.display =\n",
              "        google.colab.kernel.accessAllowed ? 'block' : 'none';\n",
              "\n",
              "      async function convertToInteractive(key) {\n",
              "        const element = document.querySelector('#df-307edafd-5537-4608-8eb9-91ae67ab0502');\n",
              "        const dataTable =\n",
              "          await google.colab.kernel.invokeFunction('convertToInteractive',\n",
              "                                                    [key], {});\n",
              "        if (!dataTable) return;\n",
              "\n",
              "        const docLinkHtml = 'Like what you see? Visit the ' +\n",
              "          '<a target=\"_blank\" href=https://colab.research.google.com/notebooks/data_table.ipynb>data table notebook</a>'\n",
              "          + ' to learn more about interactive tables.';\n",
              "        element.innerHTML = '';\n",
              "        dataTable['output_type'] = 'display_data';\n",
              "        await google.colab.output.renderOutput(dataTable, element);\n",
              "        const docLink = document.createElement('div');\n",
              "        docLink.innerHTML = docLinkHtml;\n",
              "        element.appendChild(docLink);\n",
              "      }\n",
              "    </script>\n",
              "  </div>\n",
              "\n",
              "\n",
              "<div id=\"df-62c4a0ba-0903-465a-a081-2e6d3424e746\">\n",
              "  <button class=\"colab-df-quickchart\" onclick=\"quickchart('df-62c4a0ba-0903-465a-a081-2e6d3424e746')\"\n",
              "            title=\"Suggest charts\"\n",
              "            style=\"display:none;\">\n",
              "\n",
              "<svg xmlns=\"http://www.w3.org/2000/svg\" height=\"24px\"viewBox=\"0 0 24 24\"\n",
              "     width=\"24px\">\n",
              "    <g>\n",
              "        <path d=\"M19 3H5c-1.1 0-2 .9-2 2v14c0 1.1.9 2 2 2h14c1.1 0 2-.9 2-2V5c0-1.1-.9-2-2-2zM9 17H7v-7h2v7zm4 0h-2V7h2v10zm4 0h-2v-4h2v4z\"/>\n",
              "    </g>\n",
              "</svg>\n",
              "  </button>\n",
              "\n",
              "<style>\n",
              "  .colab-df-quickchart {\n",
              "      --bg-color: #E8F0FE;\n",
              "      --fill-color: #1967D2;\n",
              "      --hover-bg-color: #E2EBFA;\n",
              "      --hover-fill-color: #174EA6;\n",
              "      --disabled-fill-color: #AAA;\n",
              "      --disabled-bg-color: #DDD;\n",
              "  }\n",
              "\n",
              "  [theme=dark] .colab-df-quickchart {\n",
              "      --bg-color: #3B4455;\n",
              "      --fill-color: #D2E3FC;\n",
              "      --hover-bg-color: #434B5C;\n",
              "      --hover-fill-color: #FFFFFF;\n",
              "      --disabled-bg-color: #3B4455;\n",
              "      --disabled-fill-color: #666;\n",
              "  }\n",
              "\n",
              "  .colab-df-quickchart {\n",
              "    background-color: var(--bg-color);\n",
              "    border: none;\n",
              "    border-radius: 50%;\n",
              "    cursor: pointer;\n",
              "    display: none;\n",
              "    fill: var(--fill-color);\n",
              "    height: 32px;\n",
              "    padding: 0;\n",
              "    width: 32px;\n",
              "  }\n",
              "\n",
              "  .colab-df-quickchart:hover {\n",
              "    background-color: var(--hover-bg-color);\n",
              "    box-shadow: 0 1px 2px rgba(60, 64, 67, 0.3), 0 1px 3px 1px rgba(60, 64, 67, 0.15);\n",
              "    fill: var(--button-hover-fill-color);\n",
              "  }\n",
              "\n",
              "  .colab-df-quickchart-complete:disabled,\n",
              "  .colab-df-quickchart-complete:disabled:hover {\n",
              "    background-color: var(--disabled-bg-color);\n",
              "    fill: var(--disabled-fill-color);\n",
              "    box-shadow: none;\n",
              "  }\n",
              "\n",
              "  .colab-df-spinner {\n",
              "    border: 2px solid var(--fill-color);\n",
              "    border-color: transparent;\n",
              "    border-bottom-color: var(--fill-color);\n",
              "    animation:\n",
              "      spin 1s steps(1) infinite;\n",
              "  }\n",
              "\n",
              "  @keyframes spin {\n",
              "    0% {\n",
              "      border-color: transparent;\n",
              "      border-bottom-color: var(--fill-color);\n",
              "      border-left-color: var(--fill-color);\n",
              "    }\n",
              "    20% {\n",
              "      border-color: transparent;\n",
              "      border-left-color: var(--fill-color);\n",
              "      border-top-color: var(--fill-color);\n",
              "    }\n",
              "    30% {\n",
              "      border-color: transparent;\n",
              "      border-left-color: var(--fill-color);\n",
              "      border-top-color: var(--fill-color);\n",
              "      border-right-color: var(--fill-color);\n",
              "    }\n",
              "    40% {\n",
              "      border-color: transparent;\n",
              "      border-right-color: var(--fill-color);\n",
              "      border-top-color: var(--fill-color);\n",
              "    }\n",
              "    60% {\n",
              "      border-color: transparent;\n",
              "      border-right-color: var(--fill-color);\n",
              "    }\n",
              "    80% {\n",
              "      border-color: transparent;\n",
              "      border-right-color: var(--fill-color);\n",
              "      border-bottom-color: var(--fill-color);\n",
              "    }\n",
              "    90% {\n",
              "      border-color: transparent;\n",
              "      border-bottom-color: var(--fill-color);\n",
              "    }\n",
              "  }\n",
              "</style>\n",
              "\n",
              "  <script>\n",
              "    async function quickchart(key) {\n",
              "      const quickchartButtonEl =\n",
              "        document.querySelector('#' + key + ' button');\n",
              "      quickchartButtonEl.disabled = true;  // To prevent multiple clicks.\n",
              "      quickchartButtonEl.classList.add('colab-df-spinner');\n",
              "      try {\n",
              "        const charts = await google.colab.kernel.invokeFunction(\n",
              "            'suggestCharts', [key], {});\n",
              "      } catch (error) {\n",
              "        console.error('Error during call to suggestCharts:', error);\n",
              "      }\n",
              "      quickchartButtonEl.classList.remove('colab-df-spinner');\n",
              "      quickchartButtonEl.classList.add('colab-df-quickchart-complete');\n",
              "    }\n",
              "    (() => {\n",
              "      let quickchartButtonEl =\n",
              "        document.querySelector('#df-62c4a0ba-0903-465a-a081-2e6d3424e746 button');\n",
              "      quickchartButtonEl.style.display =\n",
              "        google.colab.kernel.accessAllowed ? 'block' : 'none';\n",
              "    })();\n",
              "  </script>\n",
              "</div>\n",
              "\n",
              "    </div>\n",
              "  </div>\n"
            ],
            "application/vnd.google.colaboratory.intrinsic+json": {
              "type": "dataframe",
              "variable_name": "dados"
            }
          },
          "metadata": {},
          "execution_count": 59
        }
      ]
    },
    {
      "cell_type": "code",
      "source": [],
      "metadata": {
        "id": "xwOYyw49gR6u"
      },
      "execution_count": null,
      "outputs": []
    }
  ]
}