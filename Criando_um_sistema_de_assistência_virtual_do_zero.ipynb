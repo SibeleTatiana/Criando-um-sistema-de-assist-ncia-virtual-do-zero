{
  "nbformat": 4,
  "nbformat_minor": 0,
  "metadata": {
    "colab": {
      "provenance": [],
      "authorship_tag": "ABX9TyMYu0iSBd4aPCJTEks/igUE",
      "include_colab_link": true
    },
    "kernelspec": {
      "name": "python3",
      "display_name": "Python 3"
    },
    "language_info": {
      "name": "python"
    }
  },
  "cells": [
    {
      "cell_type": "markdown",
      "metadata": {
        "id": "view-in-github",
        "colab_type": "text"
      },
      "source": [
        "<a href=\"https://colab.research.google.com/github/SibeleTatiana/Criando-um-sistema-de-assist-ncia-virtual-do-zero/blob/main/Criando_um_sistema_de_assist%C3%AAncia_virtual_do_zero.ipynb\" target=\"_parent\"><img src=\"https://colab.research.google.com/assets/colab-badge.svg\" alt=\"Open In Colab\"/></a>"
      ]
    },
    {
      "cell_type": "code",
      "execution_count": 1,
      "metadata": {
        "colab": {
          "base_uri": "https://localhost:8080/"
        },
        "id": "Hjcyov1vFtBr",
        "outputId": "24d3d331-1925-4abe-f249-e3090c2ae406"
      },
      "outputs": [
        {
          "output_type": "stream",
          "name": "stdout",
          "text": [
            "Mounted at /content/drive\n"
          ]
        }
      ],
      "source": [
        "from google.colab import drive\n",
        "drive.mount('/content/drive')\n"
      ]
    },
    {
      "cell_type": "code",
      "source": [
        "import os\n",
        "\n",
        "# Caminho da pasta no Google Drive\n",
        "caminho_pasta = \"/content/drive/MyDrive/AssistenteVirtual\"\n",
        "\n",
        "# Criar a pasta se ela não existir\n",
        "if not os.path.exists(caminho_pasta):\n",
        "    os.makedirs(caminho_pasta)\n",
        "    print(f\"Pasta criada em: {caminho_pasta}\")\n",
        "else:\n",
        "    print(\"A pasta já existe!\")\n"
      ],
      "metadata": {
        "colab": {
          "base_uri": "https://localhost:8080/"
        },
        "id": "KdFoCQQ2GDnr",
        "outputId": "53a1703e-d2be-4ec2-a060-1be9cbb108a0"
      },
      "execution_count": 2,
      "outputs": [
        {
          "output_type": "stream",
          "name": "stdout",
          "text": [
            "Pasta criada em: /content/drive/MyDrive/AssistenteVirtual\n"
          ]
        }
      ]
    },
    {
      "cell_type": "code",
      "source": [
        "!pip install speechrecognition pyttsx3 wikipedia-api geopy\n"
      ],
      "metadata": {
        "colab": {
          "base_uri": "https://localhost:8080/"
        },
        "id": "-4v5u5JZGtiY",
        "outputId": "034f5f5d-c22b-4aad-9ed5-e8e24961866c"
      },
      "execution_count": 3,
      "outputs": [
        {
          "output_type": "stream",
          "name": "stdout",
          "text": [
            "Collecting speechrecognition\n",
            "  Downloading SpeechRecognition-3.14.1-py3-none-any.whl.metadata (31 kB)\n",
            "Collecting pyttsx3\n",
            "  Downloading pyttsx3-2.98-py3-none-any.whl.metadata (3.8 kB)\n",
            "Collecting wikipedia-api\n",
            "  Downloading wikipedia_api-0.8.1.tar.gz (19 kB)\n",
            "  Preparing metadata (setup.py) ... \u001b[?25l\u001b[?25hdone\n",
            "Requirement already satisfied: geopy in /usr/local/lib/python3.11/dist-packages (2.4.1)\n",
            "Requirement already satisfied: typing-extensions in /usr/local/lib/python3.11/dist-packages (from speechrecognition) (4.12.2)\n",
            "Requirement already satisfied: requests in /usr/local/lib/python3.11/dist-packages (from wikipedia-api) (2.32.3)\n",
            "Requirement already satisfied: geographiclib<3,>=1.52 in /usr/local/lib/python3.11/dist-packages (from geopy) (2.0)\n",
            "Requirement already satisfied: charset-normalizer<4,>=2 in /usr/local/lib/python3.11/dist-packages (from requests->wikipedia-api) (3.4.1)\n",
            "Requirement already satisfied: idna<4,>=2.5 in /usr/local/lib/python3.11/dist-packages (from requests->wikipedia-api) (3.10)\n",
            "Requirement already satisfied: urllib3<3,>=1.21.1 in /usr/local/lib/python3.11/dist-packages (from requests->wikipedia-api) (2.3.0)\n",
            "Requirement already satisfied: certifi>=2017.4.17 in /usr/local/lib/python3.11/dist-packages (from requests->wikipedia-api) (2025.1.31)\n",
            "Downloading SpeechRecognition-3.14.1-py3-none-any.whl (32.9 MB)\n",
            "\u001b[2K   \u001b[90m━━━━━━━━━━━━━━━━━━━━━━━━━━━━━━━━━━━━━━━━\u001b[0m \u001b[32m32.9/32.9 MB\u001b[0m \u001b[31m53.7 MB/s\u001b[0m eta \u001b[36m0:00:00\u001b[0m\n",
            "\u001b[?25hDownloading pyttsx3-2.98-py3-none-any.whl (34 kB)\n",
            "Building wheels for collected packages: wikipedia-api\n",
            "  Building wheel for wikipedia-api (setup.py) ... \u001b[?25l\u001b[?25hdone\n",
            "  Created wheel for wikipedia-api: filename=Wikipedia_API-0.8.1-py3-none-any.whl size=15384 sha256=f4719f5c43ad46132567eeab16c687653115bc11930e3101fae7dc7b27edc40f\n",
            "  Stored in directory: /root/.cache/pip/wheels/0b/0f/39/e8214ec038ccd5aeb8c82b957289f2f3ab2251febeae5c2860\n",
            "Successfully built wikipedia-api\n",
            "Installing collected packages: pyttsx3, speechrecognition, wikipedia-api\n",
            "Successfully installed pyttsx3-2.98 speechrecognition-3.14.1 wikipedia-api-0.8.1\n"
          ]
        }
      ]
    },
    {
      "cell_type": "code",
      "source": [
        "import os\n",
        "\n",
        "# Caminho da pasta no Google Drive\n",
        "caminho_pasta = \"/content/drive/MyDrive/AssistenteVirtual\"\n",
        "\n",
        "# Verifica se a pasta existe\n",
        "if os.path.exists(caminho_pasta):\n",
        "    print(\"✅ A pasta existe no Google Drive!\")\n",
        "    print(\"📂 Conteúdo da pasta:\", os.listdir(caminho_pasta))\n",
        "else:\n",
        "    print(\"⚠️ A pasta NÃO existe. Verifique se foi criada corretamente.\")\n"
      ],
      "metadata": {
        "colab": {
          "base_uri": "https://localhost:8080/"
        },
        "id": "rrl_vwkeG4cQ",
        "outputId": "06616c8e-cb6e-47b8-cd75-0a7ca502cdcc"
      },
      "execution_count": 4,
      "outputs": [
        {
          "output_type": "stream",
          "name": "stdout",
          "text": [
            "✅ A pasta existe no Google Drive!\n",
            "📂 Conteúdo da pasta: []\n"
          ]
        }
      ]
    },
    {
      "cell_type": "code",
      "source": [
        "from google.colab import drive\n",
        "drive.mount('/content/drive')\n"
      ],
      "metadata": {
        "colab": {
          "base_uri": "https://localhost:8080/"
        },
        "id": "2S3ZQ1aiXx4a",
        "outputId": "be4cbf11-a2a1-4702-ff60-8e0e230656d7"
      },
      "execution_count": 39,
      "outputs": [
        {
          "output_type": "stream",
          "name": "stdout",
          "text": [
            "Drive already mounted at /content/drive; to attempt to forcibly remount, call drive.mount(\"/content/drive\", force_remount=True).\n"
          ]
        }
      ]
    },
    {
      "cell_type": "code",
      "source": [
        "import os\n",
        "\n",
        "# Verificando o conteúdo da pasta AssistenteVirtual\n",
        "drive_path = '/content/drive/MyDrive/AssistenteVirtual'\n",
        "print(\"Conteúdo da pasta:\", os.listdir(drive_path))\n"
      ],
      "metadata": {
        "colab": {
          "base_uri": "https://localhost:8080/"
        },
        "id": "aiFlGS_9N-33",
        "outputId": "7d6ebcfb-4897-4fc6-cc31-6d04332604a4"
      },
      "execution_count": 40,
      "outputs": [
        {
          "output_type": "stream",
          "name": "stdout",
          "text": [
            "Conteúdo da pasta: ['dataset']\n"
          ]
        }
      ]
    },
    {
      "cell_type": "code",
      "source": [
        "import os\n",
        "\n",
        "# Caminho da pasta no Google Drive\n",
        "pasta_drive = '/content/drive/MyDrive/AssistenteVirtual'\n",
        "\n",
        "# Verificando o conteúdo da pasta\n",
        "conteudo_pasta = os.listdir(pasta_drive)\n",
        "print(f\"Conteúdo da pasta '{pasta_drive}': {conteudo_pasta}\")\n"
      ],
      "metadata": {
        "colab": {
          "base_uri": "https://localhost:8080/"
        },
        "id": "LMD4yrt0ZTo8",
        "outputId": "0d5e4df2-9f9a-4a7c-dc7e-44048416cefc"
      },
      "execution_count": 41,
      "outputs": [
        {
          "output_type": "stream",
          "name": "stdout",
          "text": [
            "Conteúdo da pasta '/content/drive/MyDrive/AssistenteVirtual': ['dataset']\n"
          ]
        }
      ]
    },
    {
      "cell_type": "code",
      "source": [
        "import os\n",
        "\n",
        "# Função para procurar o arquivo no Google Drive\n",
        "def buscar_arquivo(arquivo_nome, caminho_pasta):\n",
        "    for root, dirs, files in os.walk(caminho_pasta):\n",
        "        if arquivo_nome in files:\n",
        "            return os.path.join(root, arquivo_nome)\n",
        "    return None\n",
        "\n",
        "# Caminho para a raiz do Google Drive\n",
        "caminho_drive = '/content/drive/MyDrive/'\n",
        "\n",
        "# Nome do arquivo\n",
        "arquivo_nome = 'kaggle.json'\n",
        "\n",
        "# Buscando o arquivo\n",
        "caminho_arquivo = buscar_arquivo(arquivo_nome, caminho_drive)\n",
        "\n",
        "if caminho_arquivo:\n",
        "    print(f\"Arquivo encontrado em: {caminho_arquivo}\")\n",
        "else:\n",
        "    print(\"Arquivo não encontrado.\")\n"
      ],
      "metadata": {
        "colab": {
          "base_uri": "https://localhost:8080/"
        },
        "id": "eMGn3Hp3Zhl8",
        "outputId": "5d271295-563f-4d9d-aa0e-0b6f7ed4aa1a"
      },
      "execution_count": 42,
      "outputs": [
        {
          "output_type": "stream",
          "name": "stdout",
          "text": [
            "Arquivo não encontrado.\n"
          ]
        }
      ]
    },
    {
      "cell_type": "code",
      "source": [
        "import shutil\n",
        "\n",
        "# Caminho do arquivo kaggle.json\n",
        "kaggle_json_path = '/content/drive/MyDrive/AssistenteVirtual/kaggle.json'\n",
        "\n",
        "# Caminho de destino para o diretório .kaggle\n",
        "destination_path = '/root/.kaggle/kaggle.json'\n",
        "\n",
        "# Movendo o arquivo para o diretório correto\n",
        "shutil.copy(kaggle_json_path, destination_path)\n"
      ],
      "metadata": {
        "colab": {
          "base_uri": "https://localhost:8080/",
          "height": 36
        },
        "id": "gPLqUBFLbYwY",
        "outputId": "56f797e0-2154-4a57-d74c-c37e5e9cbdf9"
      },
      "execution_count": 43,
      "outputs": [
        {
          "output_type": "execute_result",
          "data": {
            "text/plain": [
              "'/root/.kaggle/kaggle.json'"
            ],
            "application/vnd.google.colaboratory.intrinsic+json": {
              "type": "string"
            }
          },
          "metadata": {},
          "execution_count": 43
        }
      ]
    },
    {
      "cell_type": "code",
      "source": [
        "import os\n",
        "\n",
        "# Alterar permissões para garantir o acesso\n",
        "os.chmod(destination_path, 0o600)\n"
      ],
      "metadata": {
        "id": "Afs2f9OUbb1c"
      },
      "execution_count": 44,
      "outputs": []
    },
    {
      "cell_type": "code",
      "source": [
        "!kaggle datasets download -d diegobrunoDIO/Speech-to-text-ML-DIO\n"
      ],
      "metadata": {
        "colab": {
          "base_uri": "https://localhost:8080/"
        },
        "id": "kmGWWCWNbhuk",
        "outputId": "a88bc4b5-6fd9-4b2d-db39-dd35b39448e9"
      },
      "execution_count": 45,
      "outputs": [
        {
          "output_type": "stream",
          "name": "stdout",
          "text": [
            "403 - Forbidden - Permission 'datasets.get' was denied\n"
          ]
        }
      ]
    },
    {
      "cell_type": "code",
      "source": [
        "import os\n",
        "\n",
        "# Caminho onde o arquivo kaggle.json deveria estar\n",
        "kaggle_json_path = '/root/.kaggle/kaggle.json'\n",
        "\n",
        "# Verificando se o arquivo existe\n",
        "if os.path.exists(kaggle_json_path):\n",
        "    print(\"Arquivo kaggle.json encontrado.\")\n",
        "else:\n",
        "    print(\"Arquivo kaggle.json não encontrado. Verifique a configuração.\")\n"
      ],
      "metadata": {
        "colab": {
          "base_uri": "https://localhost:8080/"
        },
        "id": "hLTEyDD4cRSP",
        "outputId": "97503311-36ea-4cf7-dea1-acfde403904d"
      },
      "execution_count": 46,
      "outputs": [
        {
          "output_type": "stream",
          "name": "stdout",
          "text": [
            "Arquivo kaggle.json encontrado.\n"
          ]
        }
      ]
    },
    {
      "cell_type": "code",
      "source": [
        "# Abrir o arquivo para verificar seu conteúdo\n",
        "with open(kaggle_json_path, 'r') as file:\n",
        "    content = file.read()\n",
        "    print(\"Conteúdo do kaggle.json:\")\n",
        "    print(content)\n"
      ],
      "metadata": {
        "colab": {
          "base_uri": "https://localhost:8080/"
        },
        "id": "QfiVihwtcX8H",
        "outputId": "1044de7c-6613-4a3c-dea1-89bc4c786b83"
      },
      "execution_count": 47,
      "outputs": [
        {
          "output_type": "stream",
          "name": "stdout",
          "text": [
            "Conteúdo do kaggle.json:\n",
            "{\"username\":\"fiaptreinamento\",\"key\":\"f323c1e9ae57b39ae808ad4fcd4d207f\"}\n"
          ]
        }
      ]
    },
    {
      "cell_type": "code",
      "source": [
        "import stat\n",
        "\n",
        "# Verifique as permissões do arquivo\n",
        "permissions = os.stat(kaggle_json_path).st_mode\n",
        "print(\"Permissões do arquivo:\", oct(permissions))\n"
      ],
      "metadata": {
        "colab": {
          "base_uri": "https://localhost:8080/"
        },
        "id": "1w_PVF_LccNf",
        "outputId": "c9c9c64e-ae0c-42ef-d755-bf7bb4d83f96"
      },
      "execution_count": 48,
      "outputs": [
        {
          "output_type": "stream",
          "name": "stdout",
          "text": [
            "Permissões do arquivo: 0o100600\n"
          ]
        }
      ]
    },
    {
      "cell_type": "code",
      "source": [
        "!kaggle datasets list\n"
      ],
      "metadata": {
        "colab": {
          "base_uri": "https://localhost:8080/"
        },
        "id": "Rsc_oR18cnoo",
        "outputId": "d5509845-1f6a-4679-a052-cd2aea13e912"
      },
      "execution_count": 49,
      "outputs": [
        {
          "output_type": "stream",
          "name": "stdout",
          "text": [
            "ref                                                          title                                              size  lastUpdated          downloadCount  voteCount  usabilityRating  \n",
            "-----------------------------------------------------------  ------------------------------------------------  -----  -------------------  -------------  ---------  ---------------  \n",
            "asinow/car-price-dataset                                     Car Price Dataset                                 135KB  2025-01-26 19:53:28           5523         70  1.0              \n",
            "anandshaw2001/netflix-movies-and-tv-shows                    Netflix Movies and TV Shows                         1MB  2025-01-03 10:33:01          15766        416  1.0              \n",
            "avis02/crime-data-from-2020-to-present                       Crime Data from 2020 to 2025 LAPD                  49MB  2025-02-05 11:11:01            967         64  1.0              \n",
            "sachinkumar62/movies-details                                 Movies dataset details                              1MB  2025-02-04 14:32:28           1139         25  1.0              \n",
            "andrexibiza/grocery-sales-dataset                            Grocery Sales Database                            223MB  2025-01-31 19:04:00           1509         31  1.0              \n",
            "ruchikakumbhar/zomato-dataset                                Zomato Dataset                                      2KB  2025-01-21 03:59:39           2376         32  1.0              \n",
            "ashaychoudhary/diabetes-prediction-in-america-dataset        Diabetes Prediction in America Dataset              2MB  2025-02-04 10:35:49           1356         26  1.0              \n",
            "asinow/laptop-price-dataset                                  Laptop Price Dataset                              181KB  2025-02-01 04:20:16           1378         41  1.0              \n",
            "vivekattri/global-ev-charging-stations-dataset               Global EV Charging Stations Dataset               165KB  2025-01-25 17:51:01            858         22  1.0              \n",
            "ankushpanday1/alzheimers-prediction-dataset-global           Alzheimer’s Prediction Dataset (Global)             1MB  2025-01-30 14:38:39           2156         37  1.0              \n",
            "wlwwwlw/elite-sports-cars-in-data                            Elite Sports Cars in Data                         289KB  2025-02-02 21:23:19           1070         29  1.0              \n",
            "himelsarder/road-accident-survival-dataset                   Road Accident Survival Dataset                      1KB  2025-01-18 06:00:32           2668         28  1.0              \n",
            "ashaychoudhary/advertising-campaign-performance-dataset      📊 Advertising Campaign Performance Dataset         51KB  2025-02-03 04:49:29            856         30  1.0              \n",
            "ashaychoudhary/anxiety-attack-factors-symptoms-and-severity  Anxiety Attack : Factors, Symptoms, and Severity  244KB  2025-01-19 11:56:21           3962         68  1.0              \n",
            "sgoutami/spotify-streaming-history                           Spotify Streaming History                           6MB  2025-01-25 05:14:49           1160         21  1.0              \n",
            "ankushpanday1/thyroid-cancer-risk-prediction-dataset         Thyroid Cancer Risk Prediction Dataset              4MB  2025-02-03 14:25:31           1008         28  1.0              \n",
            "xavierberge/road-accident-dataset                            Road Accident dataset                              47MB  2025-02-05 00:32:37           1458         28  0.9411765        \n",
            "gazal5277/e-commerce-product-and-customer-dataset            E-Commerce Product and Customer Dataset           103KB  2025-02-06 06:37:32            609         44  1.0              \n",
            "vivekattri/california-wildfire-damage-2014-feb2025           California Wildfire Damage (2014-(feb)2025)         3KB  2025-02-05 10:05:12            758         27  0.9411765        \n",
            "asinow/airplane-price-dataset                                Airplane Price Dataset                            238KB  2025-01-28 18:36:41           2586         40  0.9411765        \n"
          ]
        }
      ]
    },
    {
      "cell_type": "code",
      "source": [
        "import shutil\n",
        "\n",
        "# Caminho do arquivo kaggle.json no Google Drive\n",
        "drive_path = '/content/drive/MyDrive/AssistenteVirtual/kaggle.json'\n",
        "\n",
        "# Copiar para o diretório correto\n",
        "shutil.copy(drive_path, kaggle_json_path)\n",
        "\n",
        "# Alterar permissões para garantir leitura\n",
        "os.chmod(kaggle_json_path, stat.S_IRUSR | stat.S_IWUSR)\n",
        "\n",
        "print(\"Arquivo kaggle.json copiado e permissões alteradas com sucesso!\")\n"
      ],
      "metadata": {
        "colab": {
          "base_uri": "https://localhost:8080/"
        },
        "id": "BBWtX3JScsX5",
        "outputId": "15fbe54b-5b9f-4fb6-a98d-8c42d4cf7c68"
      },
      "execution_count": 50,
      "outputs": [
        {
          "output_type": "stream",
          "name": "stdout",
          "text": [
            "Arquivo kaggle.json copiado e permissões alteradas com sucesso!\n"
          ]
        }
      ]
    },
    {
      "cell_type": "code",
      "source": [
        "!kaggle datasets download -d diegobrunoDIO/Speech-to-text-ML-DIO -p /content/drive/MyDrive/AssistenteVirtual/dataset\n"
      ],
      "metadata": {
        "colab": {
          "base_uri": "https://localhost:8080/"
        },
        "id": "k-MZp-t6czy8",
        "outputId": "9bbbfa09-d604-47f1-9bf8-cb8798048db2"
      },
      "execution_count": 51,
      "outputs": [
        {
          "output_type": "stream",
          "name": "stdout",
          "text": [
            "403 - Forbidden - Permission 'datasets.get' was denied\n"
          ]
        }
      ]
    },
    {
      "cell_type": "code",
      "source": [
        "import os\n",
        "\n",
        "# Verifique se a chave de API do Kaggle está configurada corretamente\n",
        "kaggle_json_path = '/root/.kaggle/kaggle.json'\n",
        "\n",
        "if os.path.exists(kaggle_json_path):\n",
        "    print(\"Kaggle API Key configurada corretamente!\")\n",
        "else:\n",
        "    print(\"Kaggle API Key não encontrada!\")\n"
      ],
      "metadata": {
        "colab": {
          "base_uri": "https://localhost:8080/"
        },
        "id": "UfmX10YQdShc",
        "outputId": "ec1bbc9e-db23-4e06-f518-1400263c20d9"
      },
      "execution_count": 52,
      "outputs": [
        {
          "output_type": "stream",
          "name": "stdout",
          "text": [
            "Kaggle API Key configurada corretamente!\n"
          ]
        }
      ]
    },
    {
      "cell_type": "code",
      "source": [
        "!kaggle datasets download -d 'zillow/zecon' -p /content/drive/MyDrive/AssistenteVirtual/dataset\n"
      ],
      "metadata": {
        "colab": {
          "base_uri": "https://localhost:8080/"
        },
        "id": "G2s-P0fWdfNi",
        "outputId": "6395fb28-25cb-4e2b-e5a4-9d2a0aa3f1a2"
      },
      "execution_count": 53,
      "outputs": [
        {
          "output_type": "stream",
          "name": "stdout",
          "text": [
            "Dataset URL: https://www.kaggle.com/datasets/zillow/zecon\n",
            "License(s): copyright-authors\n",
            "Downloading zecon.zip to /content/drive/MyDrive/AssistenteVirtual/dataset\n",
            " 99% 504M/511M [00:05<00:00, 111MB/s] \n",
            "100% 511M/511M [00:05<00:00, 90.6MB/s]\n"
          ]
        }
      ]
    },
    {
      "cell_type": "code",
      "source": [
        "import zipfile\n",
        "import os\n",
        "\n",
        "# Caminho do arquivo ZIP\n",
        "zip_path = '/content/drive/MyDrive/AssistenteVirtual/dataset/zecon.zip'\n",
        "extract_path = '/content/drive/MyDrive/AssistenteVirtual/dataset/zecon/'\n",
        "\n",
        "# Extraindo o arquivo ZIP\n",
        "with zipfile.ZipFile(zip_path, 'r') as zip_ref:\n",
        "    zip_ref.extractall(extract_path)\n",
        "\n",
        "print(\"Arquivo extraído com sucesso!\")\n"
      ],
      "metadata": {
        "colab": {
          "base_uri": "https://localhost:8080/"
        },
        "id": "uAB_SoOxdkWO",
        "outputId": "7ccf28b8-3c28-438b-96c4-0ff4e3a5f08f"
      },
      "execution_count": 54,
      "outputs": [
        {
          "output_type": "stream",
          "name": "stdout",
          "text": [
            "Arquivo extraído com sucesso!\n"
          ]
        }
      ]
    },
    {
      "cell_type": "code",
      "source": [
        "# Verificando os arquivos extraídos\n",
        "extracted_files = os.listdir(extract_path)\n",
        "print(f\"Arquivos extraídos: {extracted_files}\")\n"
      ],
      "metadata": {
        "colab": {
          "base_uri": "https://localhost:8080/"
        },
        "id": "N9DhET8ieccT",
        "outputId": "59131b5d-0492-4c4b-a1b0-39312c1ebc4e"
      },
      "execution_count": 55,
      "outputs": [
        {
          "output_type": "stream",
          "name": "stdout",
          "text": [
            "Arquivos extraídos: ['City_time_series.csv', 'CountyCrossWalk_Zillow.csv', 'County_time_series.csv', 'DataDictionary.csv', 'Metro_time_series.csv', 'Neighborhood_time_series.csv', 'State_time_series.csv', 'Zip_time_series.csv', 'all_available_metrics.json', 'cities_crosswalk.csv', 'fields_per_level.json']\n"
          ]
        }
      ]
    },
    {
      "cell_type": "code",
      "source": [
        "import os\n",
        "\n",
        "# Caminho do diretório onde o arquivo foi extraído\n",
        "extract_path = '/content/drive/MyDrive/AssistenteVirtual/dataset/zecon'\n",
        "\n",
        "# Verificando o conteúdo do diretório\n",
        "conteudo = os.listdir(extract_path)\n",
        "print(conteudo)\n"
      ],
      "metadata": {
        "colab": {
          "base_uri": "https://localhost:8080/"
        },
        "id": "uy_dcrWdfym_",
        "outputId": "ae9a2f28-2227-4767-a0ca-c240504ece1a"
      },
      "execution_count": 58,
      "outputs": [
        {
          "output_type": "stream",
          "name": "stdout",
          "text": [
            "['City_time_series.csv', 'CountyCrossWalk_Zillow.csv', 'County_time_series.csv', 'DataDictionary.csv', 'Metro_time_series.csv', 'Neighborhood_time_series.csv', 'State_time_series.csv', 'Zip_time_series.csv', 'all_available_metrics.json', 'cities_crosswalk.csv', 'fields_per_level.json']\n"
          ]
        }
      ]
    },
    {
      "cell_type": "code",
      "source": [
        "import pandas as pd\n",
        "\n",
        "# Caminho correto para o arquivo CSV\n",
        "csv_file_path = '/content/drive/MyDrive/AssistenteVirtual/dataset/zecon/City_time_series.csv'\n",
        "\n",
        "# Carregando os dados em um DataFrame\n",
        "dados = pd.read_csv(csv_file_path)\n",
        "\n",
        "# Exibindo as primeiras linhas para verificar os dados\n",
        "dados.head()\n"
      ],
      "metadata": {
        "colab": {
          "base_uri": "https://localhost:8080/",
          "height": 342
        },
        "id": "yCOY9bggf5C2",
        "outputId": "81bd2aa2-d4cc-4145-9001-97ce9f6a8f72"
      },
      "execution_count": 59,
      "outputs": [
        {
          "output_type": "execute_result",
          "data": {
            "text/plain": [
              "         Date          RegionName  InventorySeasonallyAdjusted_AllHomes  \\\n",
              "0  1996-04-30  abbottstownadamspa                                   NaN   \n",
              "1  1996-04-30   aberdeenbinghamid                                   NaN   \n",
              "2  1996-04-30   aberdeenharfordmd                                   NaN   \n",
              "3  1996-04-30    aberdeenmonroems                                   NaN   \n",
              "4  1996-04-30     aberdeenmoorenc                                   NaN   \n",
              "\n",
              "   InventoryRaw_AllHomes  MedianListingPricePerSqft_1Bedroom  \\\n",
              "0                    NaN                                 NaN   \n",
              "1                    NaN                                 NaN   \n",
              "2                    NaN                                 NaN   \n",
              "3                    NaN                                 NaN   \n",
              "4                    NaN                                 NaN   \n",
              "\n",
              "   MedianListingPricePerSqft_2Bedroom  MedianListingPricePerSqft_3Bedroom  \\\n",
              "0                                 NaN                                 NaN   \n",
              "1                                 NaN                                 NaN   \n",
              "2                                 NaN                                 NaN   \n",
              "3                                 NaN                                 NaN   \n",
              "4                                 NaN                                 NaN   \n",
              "\n",
              "   MedianListingPricePerSqft_4Bedroom  \\\n",
              "0                                 NaN   \n",
              "1                                 NaN   \n",
              "2                                 NaN   \n",
              "3                                 NaN   \n",
              "4                                 NaN   \n",
              "\n",
              "   MedianListingPricePerSqft_5BedroomOrMore  \\\n",
              "0                                       NaN   \n",
              "1                                       NaN   \n",
              "2                                       NaN   \n",
              "3                                       NaN   \n",
              "4                                       NaN   \n",
              "\n",
              "   MedianListingPricePerSqft_AllHomes  ...  ZHVI_BottomTier  ZHVI_CondoCoop  \\\n",
              "0                                 NaN  ...              NaN             NaN   \n",
              "1                                 NaN  ...              NaN             NaN   \n",
              "2                                 NaN  ...          81300.0        137900.0   \n",
              "3                                 NaN  ...              NaN             NaN   \n",
              "4                                 NaN  ...              NaN             NaN   \n",
              "\n",
              "   ZHVI_MiddleTier  ZHVI_SingleFamilyResidence  ZHVI_TopTier  ZRI_AllHomes  \\\n",
              "0              NaN                         NaN      108700.0           NaN   \n",
              "1              NaN                         NaN      168400.0           NaN   \n",
              "2         109600.0                    108600.0      147900.0           NaN   \n",
              "3              NaN                         NaN       74500.0           NaN   \n",
              "4              NaN                         NaN      131100.0           NaN   \n",
              "\n",
              "   ZRI_AllHomesPlusMultifamily  ZriPerSqft_AllHomes  \\\n",
              "0                          NaN                  NaN   \n",
              "1                          NaN                  NaN   \n",
              "2                          NaN                  NaN   \n",
              "3                          NaN                  NaN   \n",
              "4                          NaN                  NaN   \n",
              "\n",
              "   Zri_MultiFamilyResidenceRental  Zri_SingleFamilyResidenceRental  \n",
              "0                             NaN                              NaN  \n",
              "1                             NaN                              NaN  \n",
              "2                             NaN                              NaN  \n",
              "3                             NaN                              NaN  \n",
              "4                             NaN                              NaN  \n",
              "\n",
              "[5 rows x 81 columns]"
            ],
            "text/html": [
              "\n",
              "  <div id=\"df-307edafd-5537-4608-8eb9-91ae67ab0502\" class=\"colab-df-container\">\n",
              "    <div>\n",
              "<style scoped>\n",
              "    .dataframe tbody tr th:only-of-type {\n",
              "        vertical-align: middle;\n",
              "    }\n",
              "\n",
              "    .dataframe tbody tr th {\n",
              "        vertical-align: top;\n",
              "    }\n",
              "\n",
              "    .dataframe thead th {\n",
              "        text-align: right;\n",
              "    }\n",
              "</style>\n",
              "<table border=\"1\" class=\"dataframe\">\n",
              "  <thead>\n",
              "    <tr style=\"text-align: right;\">\n",
              "      <th></th>\n",
              "      <th>Date</th>\n",
              "      <th>RegionName</th>\n",
              "      <th>InventorySeasonallyAdjusted_AllHomes</th>\n",
              "      <th>InventoryRaw_AllHomes</th>\n",
              "      <th>MedianListingPricePerSqft_1Bedroom</th>\n",
              "      <th>MedianListingPricePerSqft_2Bedroom</th>\n",
              "      <th>MedianListingPricePerSqft_3Bedroom</th>\n",
              "      <th>MedianListingPricePerSqft_4Bedroom</th>\n",
              "      <th>MedianListingPricePerSqft_5BedroomOrMore</th>\n",
              "      <th>MedianListingPricePerSqft_AllHomes</th>\n",
              "      <th>...</th>\n",
              "      <th>ZHVI_BottomTier</th>\n",
              "      <th>ZHVI_CondoCoop</th>\n",
              "      <th>ZHVI_MiddleTier</th>\n",
              "      <th>ZHVI_SingleFamilyResidence</th>\n",
              "      <th>ZHVI_TopTier</th>\n",
              "      <th>ZRI_AllHomes</th>\n",
              "      <th>ZRI_AllHomesPlusMultifamily</th>\n",
              "      <th>ZriPerSqft_AllHomes</th>\n",
              "      <th>Zri_MultiFamilyResidenceRental</th>\n",
              "      <th>Zri_SingleFamilyResidenceRental</th>\n",
              "    </tr>\n",
              "  </thead>\n",
              "  <tbody>\n",
              "    <tr>\n",
              "      <th>0</th>\n",
              "      <td>1996-04-30</td>\n",
              "      <td>abbottstownadamspa</td>\n",
              "      <td>NaN</td>\n",
              "      <td>NaN</td>\n",
              "      <td>NaN</td>\n",
              "      <td>NaN</td>\n",
              "      <td>NaN</td>\n",
              "      <td>NaN</td>\n",
              "      <td>NaN</td>\n",
              "      <td>NaN</td>\n",
              "      <td>...</td>\n",
              "      <td>NaN</td>\n",
              "      <td>NaN</td>\n",
              "      <td>NaN</td>\n",
              "      <td>NaN</td>\n",
              "      <td>108700.0</td>\n",
              "      <td>NaN</td>\n",
              "      <td>NaN</td>\n",
              "      <td>NaN</td>\n",
              "      <td>NaN</td>\n",
              "      <td>NaN</td>\n",
              "    </tr>\n",
              "    <tr>\n",
              "      <th>1</th>\n",
              "      <td>1996-04-30</td>\n",
              "      <td>aberdeenbinghamid</td>\n",
              "      <td>NaN</td>\n",
              "      <td>NaN</td>\n",
              "      <td>NaN</td>\n",
              "      <td>NaN</td>\n",
              "      <td>NaN</td>\n",
              "      <td>NaN</td>\n",
              "      <td>NaN</td>\n",
              "      <td>NaN</td>\n",
              "      <td>...</td>\n",
              "      <td>NaN</td>\n",
              "      <td>NaN</td>\n",
              "      <td>NaN</td>\n",
              "      <td>NaN</td>\n",
              "      <td>168400.0</td>\n",
              "      <td>NaN</td>\n",
              "      <td>NaN</td>\n",
              "      <td>NaN</td>\n",
              "      <td>NaN</td>\n",
              "      <td>NaN</td>\n",
              "    </tr>\n",
              "    <tr>\n",
              "      <th>2</th>\n",
              "      <td>1996-04-30</td>\n",
              "      <td>aberdeenharfordmd</td>\n",
              "      <td>NaN</td>\n",
              "      <td>NaN</td>\n",
              "      <td>NaN</td>\n",
              "      <td>NaN</td>\n",
              "      <td>NaN</td>\n",
              "      <td>NaN</td>\n",
              "      <td>NaN</td>\n",
              "      <td>NaN</td>\n",
              "      <td>...</td>\n",
              "      <td>81300.0</td>\n",
              "      <td>137900.0</td>\n",
              "      <td>109600.0</td>\n",
              "      <td>108600.0</td>\n",
              "      <td>147900.0</td>\n",
              "      <td>NaN</td>\n",
              "      <td>NaN</td>\n",
              "      <td>NaN</td>\n",
              "      <td>NaN</td>\n",
              "      <td>NaN</td>\n",
              "    </tr>\n",
              "    <tr>\n",
              "      <th>3</th>\n",
              "      <td>1996-04-30</td>\n",
              "      <td>aberdeenmonroems</td>\n",
              "      <td>NaN</td>\n",
              "      <td>NaN</td>\n",
              "      <td>NaN</td>\n",
              "      <td>NaN</td>\n",
              "      <td>NaN</td>\n",
              "      <td>NaN</td>\n",
              "      <td>NaN</td>\n",
              "      <td>NaN</td>\n",
              "      <td>...</td>\n",
              "      <td>NaN</td>\n",
              "      <td>NaN</td>\n",
              "      <td>NaN</td>\n",
              "      <td>NaN</td>\n",
              "      <td>74500.0</td>\n",
              "      <td>NaN</td>\n",
              "      <td>NaN</td>\n",
              "      <td>NaN</td>\n",
              "      <td>NaN</td>\n",
              "      <td>NaN</td>\n",
              "    </tr>\n",
              "    <tr>\n",
              "      <th>4</th>\n",
              "      <td>1996-04-30</td>\n",
              "      <td>aberdeenmoorenc</td>\n",
              "      <td>NaN</td>\n",
              "      <td>NaN</td>\n",
              "      <td>NaN</td>\n",
              "      <td>NaN</td>\n",
              "      <td>NaN</td>\n",
              "      <td>NaN</td>\n",
              "      <td>NaN</td>\n",
              "      <td>NaN</td>\n",
              "      <td>...</td>\n",
              "      <td>NaN</td>\n",
              "      <td>NaN</td>\n",
              "      <td>NaN</td>\n",
              "      <td>NaN</td>\n",
              "      <td>131100.0</td>\n",
              "      <td>NaN</td>\n",
              "      <td>NaN</td>\n",
              "      <td>NaN</td>\n",
              "      <td>NaN</td>\n",
              "      <td>NaN</td>\n",
              "    </tr>\n",
              "  </tbody>\n",
              "</table>\n",
              "<p>5 rows × 81 columns</p>\n",
              "</div>\n",
              "    <div class=\"colab-df-buttons\">\n",
              "\n",
              "  <div class=\"colab-df-container\">\n",
              "    <button class=\"colab-df-convert\" onclick=\"convertToInteractive('df-307edafd-5537-4608-8eb9-91ae67ab0502')\"\n",
              "            title=\"Convert this dataframe to an interactive table.\"\n",
              "            style=\"display:none;\">\n",
              "\n",
              "  <svg xmlns=\"http://www.w3.org/2000/svg\" height=\"24px\" viewBox=\"0 -960 960 960\">\n",
              "    <path d=\"M120-120v-720h720v720H120Zm60-500h600v-160H180v160Zm220 220h160v-160H400v160Zm0 220h160v-160H400v160ZM180-400h160v-160H180v160Zm440 0h160v-160H620v160ZM180-180h160v-160H180v160Zm440 0h160v-160H620v160Z\"/>\n",
              "  </svg>\n",
              "    </button>\n",
              "\n",
              "  <style>\n",
              "    .colab-df-container {\n",
              "      display:flex;\n",
              "      gap: 12px;\n",
              "    }\n",
              "\n",
              "    .colab-df-convert {\n",
              "      background-color: #E8F0FE;\n",
              "      border: none;\n",
              "      border-radius: 50%;\n",
              "      cursor: pointer;\n",
              "      display: none;\n",
              "      fill: #1967D2;\n",
              "      height: 32px;\n",
              "      padding: 0 0 0 0;\n",
              "      width: 32px;\n",
              "    }\n",
              "\n",
              "    .colab-df-convert:hover {\n",
              "      background-color: #E2EBFA;\n",
              "      box-shadow: 0px 1px 2px rgba(60, 64, 67, 0.3), 0px 1px 3px 1px rgba(60, 64, 67, 0.15);\n",
              "      fill: #174EA6;\n",
              "    }\n",
              "\n",
              "    .colab-df-buttons div {\n",
              "      margin-bottom: 4px;\n",
              "    }\n",
              "\n",
              "    [theme=dark] .colab-df-convert {\n",
              "      background-color: #3B4455;\n",
              "      fill: #D2E3FC;\n",
              "    }\n",
              "\n",
              "    [theme=dark] .colab-df-convert:hover {\n",
              "      background-color: #434B5C;\n",
              "      box-shadow: 0px 1px 3px 1px rgba(0, 0, 0, 0.15);\n",
              "      filter: drop-shadow(0px 1px 2px rgba(0, 0, 0, 0.3));\n",
              "      fill: #FFFFFF;\n",
              "    }\n",
              "  </style>\n",
              "\n",
              "    <script>\n",
              "      const buttonEl =\n",
              "        document.querySelector('#df-307edafd-5537-4608-8eb9-91ae67ab0502 button.colab-df-convert');\n",
              "      buttonEl.style.display =\n",
              "        google.colab.kernel.accessAllowed ? 'block' : 'none';\n",
              "\n",
              "      async function convertToInteractive(key) {\n",
              "        const element = document.querySelector('#df-307edafd-5537-4608-8eb9-91ae67ab0502');\n",
              "        const dataTable =\n",
              "          await google.colab.kernel.invokeFunction('convertToInteractive',\n",
              "                                                    [key], {});\n",
              "        if (!dataTable) return;\n",
              "\n",
              "        const docLinkHtml = 'Like what you see? Visit the ' +\n",
              "          '<a target=\"_blank\" href=https://colab.research.google.com/notebooks/data_table.ipynb>data table notebook</a>'\n",
              "          + ' to learn more about interactive tables.';\n",
              "        element.innerHTML = '';\n",
              "        dataTable['output_type'] = 'display_data';\n",
              "        await google.colab.output.renderOutput(dataTable, element);\n",
              "        const docLink = document.createElement('div');\n",
              "        docLink.innerHTML = docLinkHtml;\n",
              "        element.appendChild(docLink);\n",
              "      }\n",
              "    </script>\n",
              "  </div>\n",
              "\n",
              "\n",
              "<div id=\"df-62c4a0ba-0903-465a-a081-2e6d3424e746\">\n",
              "  <button class=\"colab-df-quickchart\" onclick=\"quickchart('df-62c4a0ba-0903-465a-a081-2e6d3424e746')\"\n",
              "            title=\"Suggest charts\"\n",
              "            style=\"display:none;\">\n",
              "\n",
              "<svg xmlns=\"http://www.w3.org/2000/svg\" height=\"24px\"viewBox=\"0 0 24 24\"\n",
              "     width=\"24px\">\n",
              "    <g>\n",
              "        <path d=\"M19 3H5c-1.1 0-2 .9-2 2v14c0 1.1.9 2 2 2h14c1.1 0 2-.9 2-2V5c0-1.1-.9-2-2-2zM9 17H7v-7h2v7zm4 0h-2V7h2v10zm4 0h-2v-4h2v4z\"/>\n",
              "    </g>\n",
              "</svg>\n",
              "  </button>\n",
              "\n",
              "<style>\n",
              "  .colab-df-quickchart {\n",
              "      --bg-color: #E8F0FE;\n",
              "      --fill-color: #1967D2;\n",
              "      --hover-bg-color: #E2EBFA;\n",
              "      --hover-fill-color: #174EA6;\n",
              "      --disabled-fill-color: #AAA;\n",
              "      --disabled-bg-color: #DDD;\n",
              "  }\n",
              "\n",
              "  [theme=dark] .colab-df-quickchart {\n",
              "      --bg-color: #3B4455;\n",
              "      --fill-color: #D2E3FC;\n",
              "      --hover-bg-color: #434B5C;\n",
              "      --hover-fill-color: #FFFFFF;\n",
              "      --disabled-bg-color: #3B4455;\n",
              "      --disabled-fill-color: #666;\n",
              "  }\n",
              "\n",
              "  .colab-df-quickchart {\n",
              "    background-color: var(--bg-color);\n",
              "    border: none;\n",
              "    border-radius: 50%;\n",
              "    cursor: pointer;\n",
              "    display: none;\n",
              "    fill: var(--fill-color);\n",
              "    height: 32px;\n",
              "    padding: 0;\n",
              "    width: 32px;\n",
              "  }\n",
              "\n",
              "  .colab-df-quickchart:hover {\n",
              "    background-color: var(--hover-bg-color);\n",
              "    box-shadow: 0 1px 2px rgba(60, 64, 67, 0.3), 0 1px 3px 1px rgba(60, 64, 67, 0.15);\n",
              "    fill: var(--button-hover-fill-color);\n",
              "  }\n",
              "\n",
              "  .colab-df-quickchart-complete:disabled,\n",
              "  .colab-df-quickchart-complete:disabled:hover {\n",
              "    background-color: var(--disabled-bg-color);\n",
              "    fill: var(--disabled-fill-color);\n",
              "    box-shadow: none;\n",
              "  }\n",
              "\n",
              "  .colab-df-spinner {\n",
              "    border: 2px solid var(--fill-color);\n",
              "    border-color: transparent;\n",
              "    border-bottom-color: var(--fill-color);\n",
              "    animation:\n",
              "      spin 1s steps(1) infinite;\n",
              "  }\n",
              "\n",
              "  @keyframes spin {\n",
              "    0% {\n",
              "      border-color: transparent;\n",
              "      border-bottom-color: var(--fill-color);\n",
              "      border-left-color: var(--fill-color);\n",
              "    }\n",
              "    20% {\n",
              "      border-color: transparent;\n",
              "      border-left-color: var(--fill-color);\n",
              "      border-top-color: var(--fill-color);\n",
              "    }\n",
              "    30% {\n",
              "      border-color: transparent;\n",
              "      border-left-color: var(--fill-color);\n",
              "      border-top-color: var(--fill-color);\n",
              "      border-right-color: var(--fill-color);\n",
              "    }\n",
              "    40% {\n",
              "      border-color: transparent;\n",
              "      border-right-color: var(--fill-color);\n",
              "      border-top-color: var(--fill-color);\n",
              "    }\n",
              "    60% {\n",
              "      border-color: transparent;\n",
              "      border-right-color: var(--fill-color);\n",
              "    }\n",
              "    80% {\n",
              "      border-color: transparent;\n",
              "      border-right-color: var(--fill-color);\n",
              "      border-bottom-color: var(--fill-color);\n",
              "    }\n",
              "    90% {\n",
              "      border-color: transparent;\n",
              "      border-bottom-color: var(--fill-color);\n",
              "    }\n",
              "  }\n",
              "</style>\n",
              "\n",
              "  <script>\n",
              "    async function quickchart(key) {\n",
              "      const quickchartButtonEl =\n",
              "        document.querySelector('#' + key + ' button');\n",
              "      quickchartButtonEl.disabled = true;  // To prevent multiple clicks.\n",
              "      quickchartButtonEl.classList.add('colab-df-spinner');\n",
              "      try {\n",
              "        const charts = await google.colab.kernel.invokeFunction(\n",
              "            'suggestCharts', [key], {});\n",
              "      } catch (error) {\n",
              "        console.error('Error during call to suggestCharts:', error);\n",
              "      }\n",
              "      quickchartButtonEl.classList.remove('colab-df-spinner');\n",
              "      quickchartButtonEl.classList.add('colab-df-quickchart-complete');\n",
              "    }\n",
              "    (() => {\n",
              "      let quickchartButtonEl =\n",
              "        document.querySelector('#df-62c4a0ba-0903-465a-a081-2e6d3424e746 button');\n",
              "      quickchartButtonEl.style.display =\n",
              "        google.colab.kernel.accessAllowed ? 'block' : 'none';\n",
              "    })();\n",
              "  </script>\n",
              "</div>\n",
              "\n",
              "    </div>\n",
              "  </div>\n"
            ],
            "application/vnd.google.colaboratory.intrinsic+json": {
              "type": "dataframe",
              "variable_name": "dados"
            }
          },
          "metadata": {},
          "execution_count": 59
        }
      ]
    },
    {
      "cell_type": "code",
      "source": [
        "!apt-get install -y portaudio19-dev\n",
        "!pip install pyaudio\n"
      ],
      "metadata": {
        "colab": {
          "base_uri": "https://localhost:8080/"
        },
        "id": "Ne6tNU3wihGm",
        "outputId": "0f53ad2a-e466-4661-fe42-2a80db20a8ab"
      },
      "execution_count": 62,
      "outputs": [
        {
          "output_type": "stream",
          "name": "stdout",
          "text": [
            "Reading package lists... Done\n",
            "Building dependency tree... Done\n",
            "Reading state information... Done\n",
            "The following additional packages will be installed:\n",
            "  libportaudio2 libportaudiocpp0\n",
            "Suggested packages:\n",
            "  portaudio19-doc\n",
            "The following NEW packages will be installed:\n",
            "  libportaudio2 libportaudiocpp0 portaudio19-dev\n",
            "0 upgraded, 3 newly installed, 0 to remove and 19 not upgraded.\n",
            "Need to get 188 kB of archives.\n",
            "After this operation, 927 kB of additional disk space will be used.\n",
            "Get:1 http://archive.ubuntu.com/ubuntu jammy/universe amd64 libportaudio2 amd64 19.6.0-1.1 [65.3 kB]\n",
            "Get:2 http://archive.ubuntu.com/ubuntu jammy/universe amd64 libportaudiocpp0 amd64 19.6.0-1.1 [16.1 kB]\n",
            "Get:3 http://archive.ubuntu.com/ubuntu jammy/universe amd64 portaudio19-dev amd64 19.6.0-1.1 [106 kB]\n",
            "Fetched 188 kB in 1s (214 kB/s)\n",
            "Selecting previously unselected package libportaudio2:amd64.\n",
            "(Reading database ... 124926 files and directories currently installed.)\n",
            "Preparing to unpack .../libportaudio2_19.6.0-1.1_amd64.deb ...\n",
            "Unpacking libportaudio2:amd64 (19.6.0-1.1) ...\n",
            "Selecting previously unselected package libportaudiocpp0:amd64.\n",
            "Preparing to unpack .../libportaudiocpp0_19.6.0-1.1_amd64.deb ...\n",
            "Unpacking libportaudiocpp0:amd64 (19.6.0-1.1) ...\n",
            "Selecting previously unselected package portaudio19-dev:amd64.\n",
            "Preparing to unpack .../portaudio19-dev_19.6.0-1.1_amd64.deb ...\n",
            "Unpacking portaudio19-dev:amd64 (19.6.0-1.1) ...\n",
            "Setting up libportaudio2:amd64 (19.6.0-1.1) ...\n",
            "Setting up libportaudiocpp0:amd64 (19.6.0-1.1) ...\n",
            "Setting up portaudio19-dev:amd64 (19.6.0-1.1) ...\n",
            "Processing triggers for libc-bin (2.35-0ubuntu3.8) ...\n",
            "/sbin/ldconfig.real: /usr/local/lib/libtbbbind.so.3 is not a symbolic link\n",
            "\n",
            "/sbin/ldconfig.real: /usr/local/lib/libtcm_debug.so.1 is not a symbolic link\n",
            "\n",
            "/sbin/ldconfig.real: /usr/local/lib/libur_adapter_opencl.so.0 is not a symbolic link\n",
            "\n",
            "/sbin/ldconfig.real: /usr/local/lib/libumf.so.0 is not a symbolic link\n",
            "\n",
            "/sbin/ldconfig.real: /usr/local/lib/libur_loader.so.0 is not a symbolic link\n",
            "\n",
            "/sbin/ldconfig.real: /usr/local/lib/libhwloc.so.15 is not a symbolic link\n",
            "\n",
            "/sbin/ldconfig.real: /usr/local/lib/libtbbmalloc_proxy.so.2 is not a symbolic link\n",
            "\n",
            "/sbin/ldconfig.real: /usr/local/lib/libtcm.so.1 is not a symbolic link\n",
            "\n",
            "/sbin/ldconfig.real: /usr/local/lib/libtbbbind_2_5.so.3 is not a symbolic link\n",
            "\n",
            "/sbin/ldconfig.real: /usr/local/lib/libtbbbind_2_0.so.3 is not a symbolic link\n",
            "\n",
            "/sbin/ldconfig.real: /usr/local/lib/libtbb.so.12 is not a symbolic link\n",
            "\n",
            "/sbin/ldconfig.real: /usr/local/lib/libur_adapter_level_zero.so.0 is not a symbolic link\n",
            "\n",
            "/sbin/ldconfig.real: /usr/local/lib/libtbbmalloc.so.2 is not a symbolic link\n",
            "\n",
            "Collecting pyaudio\n",
            "  Using cached PyAudio-0.2.14.tar.gz (47 kB)\n",
            "  Installing build dependencies ... \u001b[?25l\u001b[?25hdone\n",
            "  Getting requirements to build wheel ... \u001b[?25l\u001b[?25hdone\n",
            "  Preparing metadata (pyproject.toml) ... \u001b[?25l\u001b[?25hdone\n",
            "Building wheels for collected packages: pyaudio\n",
            "  Building wheel for pyaudio (pyproject.toml) ... \u001b[?25l\u001b[?25hdone\n",
            "  Created wheel for pyaudio: filename=PyAudio-0.2.14-cp311-cp311-linux_x86_64.whl size=67399 sha256=7c1f6e86c3d3c72c86d7a04fd41ff134e73530b52297808cf8ea4964fa0719d2\n",
            "  Stored in directory: /root/.cache/pip/wheels/80/b1/c1/67e4ef443de2665d86031d4760508094eab5de37d5d64d9c27\n",
            "Successfully built pyaudio\n",
            "Installing collected packages: pyaudio\n",
            "Successfully installed pyaudio-0.2.14\n"
          ]
        }
      ]
    },
    {
      "cell_type": "code",
      "source": [
        "!pip install sounddevice\n"
      ],
      "metadata": {
        "colab": {
          "base_uri": "https://localhost:8080/"
        },
        "id": "9VYyBQDuj6sY",
        "outputId": "5c07cbfc-0a96-4bb9-8c1c-0f03cb71fb43"
      },
      "execution_count": 64,
      "outputs": [
        {
          "output_type": "stream",
          "name": "stdout",
          "text": [
            "Collecting sounddevice\n",
            "  Downloading sounddevice-0.5.1-py3-none-any.whl.metadata (1.4 kB)\n",
            "Requirement already satisfied: CFFI>=1.0 in /usr/local/lib/python3.11/dist-packages (from sounddevice) (1.17.1)\n",
            "Requirement already satisfied: pycparser in /usr/local/lib/python3.11/dist-packages (from CFFI>=1.0->sounddevice) (2.22)\n",
            "Downloading sounddevice-0.5.1-py3-none-any.whl (32 kB)\n",
            "Installing collected packages: sounddevice\n",
            "Successfully installed sounddevice-0.5.1\n"
          ]
        }
      ]
    },
    {
      "cell_type": "code",
      "source": [
        "!pip install gtts\n"
      ],
      "metadata": {
        "colab": {
          "base_uri": "https://localhost:8080/"
        },
        "id": "qvTaFhngpliW",
        "outputId": "e70d7d09-8fe3-4122-fd09-18ca47aad50a"
      },
      "execution_count": 72,
      "outputs": [
        {
          "output_type": "stream",
          "name": "stdout",
          "text": [
            "Collecting gtts\n",
            "  Downloading gTTS-2.5.4-py3-none-any.whl.metadata (4.1 kB)\n",
            "Requirement already satisfied: requests<3,>=2.27 in /usr/local/lib/python3.11/dist-packages (from gtts) (2.32.3)\n",
            "Requirement already satisfied: click<8.2,>=7.1 in /usr/local/lib/python3.11/dist-packages (from gtts) (8.1.8)\n",
            "Requirement already satisfied: charset-normalizer<4,>=2 in /usr/local/lib/python3.11/dist-packages (from requests<3,>=2.27->gtts) (3.4.1)\n",
            "Requirement already satisfied: idna<4,>=2.5 in /usr/local/lib/python3.11/dist-packages (from requests<3,>=2.27->gtts) (3.10)\n",
            "Requirement already satisfied: urllib3<3,>=1.21.1 in /usr/local/lib/python3.11/dist-packages (from requests<3,>=2.27->gtts) (2.3.0)\n",
            "Requirement already satisfied: certifi>=2017.4.17 in /usr/local/lib/python3.11/dist-packages (from requests<3,>=2.27->gtts) (2025.1.31)\n",
            "Downloading gTTS-2.5.4-py3-none-any.whl (29 kB)\n",
            "Installing collected packages: gtts\n",
            "Successfully installed gtts-2.5.4\n"
          ]
        }
      ]
    },
    {
      "cell_type": "code",
      "source": [
        "from gtts import gTTS\n",
        "\n",
        "# Texto para ser convertido em áudio\n",
        "texto = \"Olá, como posso te ajudar?\"\n",
        "\n",
        "# Criando o arquivo de áudio\n",
        "audio = gTTS(text=texto, lang='pt', slow=False)\n",
        "audio_path = \"/content/hello_simulated.mp3\"\n",
        "\n",
        "# Salvando o áudio no caminho especificado\n",
        "audio.save(audio_path)\n",
        "\n",
        "# Reproduzindo o áudio\n",
        "import IPython.display as ipd\n",
        "ipd.Audio(audio_path)\n"
      ],
      "metadata": {
        "colab": {
          "base_uri": "https://localhost:8080/",
          "height": 76
        },
        "id": "Q7FB3Mt6pvsg",
        "outputId": "ec1120fd-9a63-4174-b971-8458f4c412fe"
      },
      "execution_count": 73,
      "outputs": [
        {
          "output_type": "execute_result",
          "data": {
            "text/plain": [
              "<IPython.lib.display.Audio object>"
            ],
            "text/html": [
              "\n",
              "                <audio  controls=\"controls\" >\n",
              "                    <source src=\"data:audio/mpeg;base64,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\" type=\"audio/mpeg\" />\n",
              "                    Your browser does not support the audio element.\n",
              "                </audio>\n",
              "              "
            ]
          },
          "metadata": {},
          "execution_count": 73
        }
      ]
    },
    {
      "cell_type": "code",
      "source": [
        "# Atualize o caminho para o arquivo de áudio que você fez o upload\n",
        "audio_file_path = \"/content/seu_arquivo_audio.wav\"\n"
      ],
      "metadata": {
        "id": "hjFJH9B0quDy"
      },
      "execution_count": 76,
      "outputs": []
    },
    {
      "cell_type": "code",
      "source": [
        "import os\n",
        "os.listdir('/content/')\n"
      ],
      "metadata": {
        "colab": {
          "base_uri": "https://localhost:8080/"
        },
        "id": "wLC2rmk5rZb6",
        "outputId": "e740a0ec-a308-45ad-ca00-1da3ea7c17ed"
      },
      "execution_count": 79,
      "outputs": [
        {
          "output_type": "execute_result",
          "data": {
            "text/plain": [
              "['.config',\n",
              " 'kaggle (1) (1).json',\n",
              " 'kaggle (1) (2).json',\n",
              " 'drive',\n",
              " 'hello_simulated.mp3',\n",
              " 'sample_data']"
            ]
          },
          "metadata": {},
          "execution_count": 79
        }
      ]
    },
    {
      "cell_type": "code",
      "source": [
        "audio_file_path = '/content/nome_do_arquivo.wav'  # Substitua pelo nome correto do arquivo\n"
      ],
      "metadata": {
        "id": "J4xO3VkMrkFE"
      },
      "execution_count": 80,
      "outputs": []
    },
    {
      "cell_type": "code",
      "source": [
        "!pip install pydub\n",
        "!apt-get install ffmpeg\n"
      ],
      "metadata": {
        "colab": {
          "base_uri": "https://localhost:8080/"
        },
        "id": "L-lpJOF6sMDG",
        "outputId": "2c621604-d910-4e69-b39d-c64a7fb4aee2"
      },
      "execution_count": 82,
      "outputs": [
        {
          "output_type": "stream",
          "name": "stdout",
          "text": [
            "Collecting pydub\n",
            "  Downloading pydub-0.25.1-py2.py3-none-any.whl.metadata (1.4 kB)\n",
            "Downloading pydub-0.25.1-py2.py3-none-any.whl (32 kB)\n",
            "Installing collected packages: pydub\n",
            "Successfully installed pydub-0.25.1\n",
            "Reading package lists... Done\n",
            "Building dependency tree... Done\n",
            "Reading state information... Done\n",
            "ffmpeg is already the newest version (7:4.4.2-0ubuntu0.22.04.1).\n",
            "0 upgraded, 0 newly installed, 0 to remove and 19 not upgraded.\n"
          ]
        }
      ]
    },
    {
      "cell_type": "code",
      "source": [
        "from pydub import AudioSegment\n",
        "\n",
        "# Caminho do arquivo MP3\n",
        "mp3_file_path = '/content/hello_simulated.mp3'\n",
        "# Caminho para salvar o arquivo WAV convertido\n",
        "wav_file_path = '/content/hello_simulated.wav'\n",
        "\n",
        "# Carrega o arquivo MP3 e exporta para WAV\n",
        "audio = AudioSegment.from_mp3(mp3_file_path)\n",
        "audio.export(wav_file_path, format=\"wav\")\n",
        "\n",
        "# Agora, use o arquivo WAV para o reconhecimento de fala\n",
        "command = recognize_audio_from_file(wav_file_path)  # Reconhece o comando do arquivo de áudio WAV\n",
        "process_command(command)  # Processa o comando\n"
      ],
      "metadata": {
        "colab": {
          "base_uri": "https://localhost:8080/"
        },
        "id": "khDuOfq_sXlA",
        "outputId": "487a8f3e-44af-4180-cd3e-3d26b197425a"
      },
      "execution_count": 83,
      "outputs": [
        {
          "output_type": "stream",
          "name": "stdout",
          "text": [
            "Carregando o áudio...\n",
            "Reconhecendo o comando...\n",
            "Comando reconhecido: hola como Paso Judah\n",
            "Processando comando: hola como Paso Judah\n",
            "Comando não reconhecido ou não implementado.\n"
          ]
        }
      ]
    },
    {
      "cell_type": "code",
      "source": [
        "from gtts import gTTS\n",
        "import os\n",
        "\n",
        "# Função para responder a comandos com o gTTS\n",
        "def respond_to_command(command):\n",
        "    command = command.lower()\n",
        "\n",
        "    if \"olá\" in command or \"oi\" in command:\n",
        "        response = \"Olá! Como posso ajudar você?\"\n",
        "    elif \"como você está\" in command:\n",
        "        response = \"Estou bem, obrigado por perguntar! E você?\"\n",
        "    elif \"tocar música\" in command:\n",
        "        response = \"Tocando sua música favorita!\"\n",
        "        # Aqui você pode integrar algo como o comando para rodar uma música, se desejar\n",
        "    else:\n",
        "        response = \"Comando não reconhecido. Tente novamente.\"\n",
        "\n",
        "    # Convertendo texto para fala usando gTTS\n",
        "    tts = gTTS(text=response, lang='pt')\n",
        "    tts.save(\"/content/resposta.mp3\")  # Salva o arquivo de áudio\n",
        "    os.system(\"mpg321 /content/resposta.mp3\")  # Reproduz o áudio gerado\n",
        "\n",
        "# Teste de comando\n",
        "command = \"Olá\"\n",
        "respond_to_command(command)\n"
      ],
      "metadata": {
        "id": "cYQwrfSQtXes"
      },
      "execution_count": 85,
      "outputs": []
    },
    {
      "cell_type": "code",
      "source": [
        "audio_file_path = \"/content/hello_simulated.mp3\"  # Se for o arquivo MP3 gravado\n"
      ],
      "metadata": {
        "id": "9dK8d4ZhuffG"
      },
      "execution_count": 87,
      "outputs": []
    },
    {
      "cell_type": "code",
      "source": [
        "from pydub import AudioSegment\n",
        "\n",
        "# Converte MP3 para WAV\n",
        "audio = AudioSegment.from_mp3(\"/content/hello_simulated.mp3\")\n",
        "audio.export(\"/content/hello_simulated.wav\", format=\"wav\")\n",
        "\n",
        "# Agora use esse caminho convertido\n",
        "audio_file_path = \"/content/hello_simulated.wav\"\n",
        "\n",
        "# Continuar com o código para reconhecer o áudio\n",
        "command = recognize_audio_from_file(audio_file_path)  # Reconhece o comando de um arquivo\n",
        "if not respond_to_command(command):  # Processa o comando\n",
        "    print(\"Interação concluída.\")\n"
      ],
      "metadata": {
        "colab": {
          "base_uri": "https://localhost:8080/"
        },
        "id": "WxaCGQjiunCg",
        "outputId": "5e008252-8774-4dcc-f504-feae8529bf4f"
      },
      "execution_count": 88,
      "outputs": [
        {
          "output_type": "stream",
          "name": "stdout",
          "text": [
            "Reconhecendo o comando...\n",
            "Comando reconhecido: Olá como posso te ajudar\n",
            "Interação concluída.\n"
          ]
        }
      ]
    }
  ]
}